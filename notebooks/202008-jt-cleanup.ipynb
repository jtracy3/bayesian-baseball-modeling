{
 "cells": [
  {
   "cell_type": "code",
   "execution_count": 1,
   "metadata": {},
   "outputs": [],
   "source": [
    "import matplotlib.pyplot as plt\n",
    "import numpy as np\n",
    "import pandas as pd\n",
    "import seaborn as sns"
   ]
  },
  {
   "cell_type": "code",
   "execution_count": 2,
   "metadata": {},
   "outputs": [],
   "source": [
    "pd.set_option('display.max_columns', None)"
   ]
  },
  {
   "cell_type": "code",
   "execution_count": 30,
   "metadata": {},
   "outputs": [],
   "source": [
    "players = pd.read_csv('../data/raw/People.csv')\n",
    "appearances = pd.read_csv('../data/raw/Appearances.csv')\n",
    "batting = pd.read_csv('../data/raw/Batting.csv')\n",
    "teams = pd.read_csv('../data/raw/Teams.csv')"
   ]
  },
  {
   "cell_type": "code",
   "execution_count": 55,
   "metadata": {},
   "outputs": [],
   "source": [
    "# test = batting[batting['playerID'] == 'amezaal01']\n",
    "# test.loc[(test.groupby(['playerID', 'yearID']).AB.rank(ascending=False) == 1.0), 'newteamID'] = test.teamID\n",
    "# test.loc[(test.groupby(['playerID', 'yearID']).G.rank(ascending=False) == 1.0), 'newteamID'] = test.teamID\n",
    "\n",
    "# test\n",
    "# batting.loc[(batting.groupby(['playerID', 'yearID']).AB.rank(ascending=False) == 1.0)]"
   ]
  },
  {
   "cell_type": "markdown",
   "metadata": {},
   "source": [
    "### Roll up appearances"
   ]
  },
  {
   "cell_type": "code",
   "execution_count": 72,
   "metadata": {},
   "outputs": [],
   "source": [
    "# check_ = player_batting_appearances.query(\"playerID == 'martimi02' & yearID == 2016\")\n",
    "# appearances.groupby(['playerID', 'yearID'])['teamID'].count().sort_values(ascending=False)\n",
    "appearances[appearances.playerID == 'drakeol01'].groupby(['playerID', 'yearID']).sum()\n",
    "\n",
    "def main_position(X):\n",
    "    positions = ['G_p', 'G_c', 'G_1b', 'G_2b', 'G_3b', 'G_ss', 'G_lf', 'G_cf', 'G_rf', 'G_dh']\n",
    "    X_ = X.loc[:, X.columns.isin(positions)]\n",
    "    main_pos = np.argmax(X_.values, axis=1)\n",
    "    return main_pos\n",
    "\n",
    "def appearances_player_year(data):\n",
    "    cols = ['playerID', 'yearID', 'G_all', 'G_p', 'G_c', 'G_1b', 'G_2b', 'G_3b', 'G_ss', 'G_lf', 'G_cf', 'G_rf', 'G_dh']\n",
    "    df = data.groupby(['playerID', 'yearID'], as_index=False).sum()[cols]\n",
    "    df['position_main'] = main_position(df)\n",
    "    return df.loc[df['position_main'] > 0, ['playerID', 'yearID', 'position_main']]\n",
    "\n",
    "positions_dict = {0: 'P', 1: 'C', 2: '1B', 3: '2B', 4: '3B', 5: 'SS', 6: 'LF', 7: 'CF', 8: 'RF', 9: 'DH'}\n",
    "# X = appearances_player_year()\n",
    "# main_position(X)\n",
    "\n",
    "# X = appearances_player_year()\n",
    "\n",
    "# X.shape\n",
    "\n",
    "# check that each player year is unique\n",
    "# X.groupby(['playerID', 'yearID']).count()[['G_all']].sort_values('G_all', ascending=False)\n"
   ]
  },
  {
   "cell_type": "markdown",
   "metadata": {},
   "source": [
    "Need to aggregate hitting metrics up to team/year, exclude stint"
   ]
  },
  {
   "cell_type": "code",
   "execution_count": null,
   "metadata": {},
   "outputs": [],
   "source": [
    "#     # get team with the most ab or games played\n",
    "#     team = []\n",
    "#     for index, player_year in data.groupby(['playerID', 'yearID']):\n",
    "#         N = len(player_year)\n",
    "        \n",
    "#         # if there is only 1 record get the team and continue\n",
    "#         if N == 1:\n",
    "#             team.append(player_year['teamID'].values[0])\n",
    "#             continue\n",
    "\n",
    "#         max_G = player_year.G.max()\n",
    "#         max_AB = player_year.AB.max()\n",
    "        \n",
    "#         # first check if the max ABs has a unique record and get the team\n",
    "#         # otherwise get the team with the max games played\n",
    "#         if len(player_year[player_year.AB == max_AB]['teamID']) > 1:\n",
    "#             for i in range(N):\n",
    "#                 team.append(player_year[player_year.G == max_G]['teamID'].values[0])\n",
    "#         else:\n",
    "#             for i in range(N):\n",
    "#                 team.append(player_year[player_year.AB == max_AB]['teamID'].values[0])"
   ]
  },
  {
   "cell_type": "markdown",
   "metadata": {},
   "source": [
    "### Roll up batting"
   ]
  },
  {
   "cell_type": "code",
   "execution_count": 56,
   "metadata": {},
   "outputs": [],
   "source": [
    "def batting_player_year(data):\n",
    "    \"\"\"\n",
    "    Args\n",
    "    ----\n",
    "        data (pd.DataFrame): a dataframe containing batting data\n",
    "    \n",
    "    Returns\n",
    "    -------\n",
    "        data (pd.DataFrame): a dataframe rolled up to the player year\n",
    "        \n",
    "    Some player years have multiple records since players can be traded over\n",
    "    the course of the year and may have played for multiple teams. To rectify\n",
    "    this the team that corresponded with the most ABs is chosen as the `main team`.\n",
    "    In the case where both records have the same number of ABs for both teams we\n",
    "    check the number of games played and choose the team with the most games played.\n",
    "    \"\"\"\n",
    "    \n",
    "    cols = ['playerID', 'yearID', 'teamID', 'G', 'AB', 'HR']\n",
    "    data = data.groupby(['playerID', 'yearID', 'teamID'], as_index=False).sum()[cols]\n",
    "\n",
    "    # data values must be sorted by playerID and yearID\n",
    "    data.sort_values(by=['playerID', 'yearID'], inplace=True)\n",
    "\n",
    "    # get team with most ABs or Gs\n",
    "    team = []\n",
    "    for index, player_year in data.groupby(['playerID', 'yearID']):\n",
    "        N = len(player_year)\n",
    "        \n",
    "        # if there is only 1 record get the team and continue\n",
    "        if N == 1:\n",
    "            team.append(player_year['teamID'].values[0])\n",
    "            continue\n",
    "\n",
    "        max_G = player_year.G.max()\n",
    "        max_AB = player_year.AB.max()\n",
    "        \n",
    "        # first check if the max ABs has a unique record and get the team\n",
    "        # otherwise get the team with the max games played\n",
    "        if len(player_year[player_year.AB == max_AB]['teamID']) > 1:\n",
    "            for i in range(N):\n",
    "                team.append(player_year[player_year.G == max_G]['teamID'].values[0])\n",
    "        else:\n",
    "            for i in range(N):\n",
    "                team.append(player_year[player_year.AB == max_AB]['teamID'].values[0])\n",
    "    \n",
    "    data['team'] = team\n",
    "    data = data.groupby(['playerID', 'yearID', 'team'], as_index=False).sum()[['playerID', 'yearID', 'team', 'AB', 'HR']]\n",
    "\n",
    "    return data"
   ]
  },
  {
   "cell_type": "code",
   "execution_count": 57,
   "metadata": {},
   "outputs": [],
   "source": [
    "X_b = batting_player_year(batting)\n",
    "\n",
    "# check that each player year is unique\n",
    "# X_b.groupby(['playerID', 'yearID', 'teamID']).count()[['G']].sort_values('G', ascending=False)"
   ]
  },
  {
   "cell_type": "code",
   "execution_count": 61,
   "metadata": {},
   "outputs": [
    {
     "data": {
      "text/plain": [
       "(97992, 5)"
      ]
     },
     "execution_count": 61,
     "metadata": {},
     "output_type": "execute_result"
    }
   ],
   "source": [
    "X_b.shape"
   ]
  },
  {
   "cell_type": "code",
   "execution_count": 27,
   "metadata": {},
   "outputs": [
    {
     "name": "stdout",
     "output_type": "stream",
     "text": [
      "Index(['playerID', 'yearID', 'position_main'], dtype='object')\n",
      "Index(['playerID', 'yearID', 'team', 'AB', 'HR'], dtype='object')\n"
     ]
    }
   ],
   "source": [
    "print(X.columns)\n",
    "print(X_b.columns)"
   ]
  },
  {
   "cell_type": "code",
   "execution_count": 62,
   "metadata": {},
   "outputs": [
    {
     "data": {
      "text/plain": [
       "(54951, 3)"
      ]
     },
     "execution_count": 62,
     "metadata": {},
     "output_type": "execute_result"
    }
   ],
   "source": [
    "X.shape"
   ]
  },
  {
   "cell_type": "code",
   "execution_count": 67,
   "metadata": {},
   "outputs": [
    {
     "name": "stdout",
     "output_type": "stream",
     "text": [
      "['playerID' 'yearID' 'team' 'AB' 'HR']\n"
     ]
    }
   ],
   "source": [
    "print(X_b.columns.values)"
   ]
  },
  {
   "cell_type": "code",
   "execution_count": 70,
   "metadata": {},
   "outputs": [
    {
     "data": {
      "text/plain": [
       "playerID    object\n",
       "yearID       int64\n",
       "team        object\n",
       "AB           int64\n",
       "HR           int64\n",
       "dtype: object"
      ]
     },
     "execution_count": 70,
     "metadata": {},
     "output_type": "execute_result"
    }
   ],
   "source": [
    "X_b.dtypes"
   ]
  },
  {
   "cell_type": "markdown",
   "metadata": {},
   "source": [
    "## Get full dataset"
   ]
  },
  {
   "cell_type": "code",
   "execution_count": 73,
   "metadata": {},
   "outputs": [],
   "source": [
    "# clean up batting / appearance data sets\n",
    "X_b = batting_player_year(batting)\n",
    "X_a = appearances_player_year(appearances)"
   ]
  },
  {
   "cell_type": "code",
   "execution_count": 76,
   "metadata": {},
   "outputs": [],
   "source": [
    "# join all the data\n",
    "data = X_b \\\n",
    "    .merge(X_a, on=['playerID', 'yearID'], how='inner') \\\n",
    "    .merge(players[['playerID', 'nameFirst', 'nameLast', 'birthYear', 'debut']], on=['playerID'], how='inner') \\\n",
    "    .merge(teams[['yearID', 'teamID', 'park']], left_on=['yearID', 'team'], right_on=['yearID', 'teamID'])\n",
    "\n",
    "data.drop(columns='teamID', inplace=True)\n",
    "\n",
    "data['playerAge'] = data['yearID'] - data['birthYear']\n",
    "data['yearsInMLB'] = data.groupby('playerID')['yearID'].rank(method='dense')\n",
    "data['debut'] = pd.to_datetime(data['debut'])\n",
    "data['playerFullName'] = data['nameFirst'] + ' ' + data['nameLast']\n",
    "\n",
    "data = data[data['debut'].dt.year >= 2000].sort_values(['playerID', 'yearID'])"
   ]
  },
  {
   "cell_type": "code",
   "execution_count": 77,
   "metadata": {},
   "outputs": [
    {
     "data": {
      "text/plain": [
       "(8597, 14)"
      ]
     },
     "execution_count": 77,
     "metadata": {},
     "output_type": "execute_result"
    }
   ],
   "source": [
    "data.shape"
   ]
  },
  {
   "cell_type": "code",
   "execution_count": 80,
   "metadata": {},
   "outputs": [
    {
     "data": {
      "text/plain": [
       "playerID                  object\n",
       "yearID                     int64\n",
       "team                      object\n",
       "AB                         int64\n",
       "HR                         int64\n",
       "position_main              int64\n",
       "nameFirst                 object\n",
       "nameLast                  object\n",
       "birthYear                float64\n",
       "debut             datetime64[ns]\n",
       "park                      object\n",
       "playerAge                float64\n",
       "yearsInMLB               float64\n",
       "playerFullName            object\n",
       "dtype: object"
      ]
     },
     "execution_count": 80,
     "metadata": {},
     "output_type": "execute_result"
    }
   ],
   "source": [
    "data.dtypes"
   ]
  },
  {
   "cell_type": "code",
   "execution_count": 81,
   "metadata": {},
   "outputs": [
    {
     "data": {
      "text/html": [
       "<div>\n",
       "<style scoped>\n",
       "    .dataframe tbody tr th:only-of-type {\n",
       "        vertical-align: middle;\n",
       "    }\n",
       "\n",
       "    .dataframe tbody tr th {\n",
       "        vertical-align: top;\n",
       "    }\n",
       "\n",
       "    .dataframe thead th {\n",
       "        text-align: right;\n",
       "    }\n",
       "</style>\n",
       "<table border=\"1\" class=\"dataframe\">\n",
       "  <thead>\n",
       "    <tr style=\"text-align: right;\">\n",
       "      <th></th>\n",
       "      <th>playerID</th>\n",
       "      <th>yearID</th>\n",
       "      <th>team</th>\n",
       "      <th>AB</th>\n",
       "      <th>HR</th>\n",
       "      <th>position_main</th>\n",
       "      <th>nameFirst</th>\n",
       "      <th>nameLast</th>\n",
       "      <th>birthYear</th>\n",
       "      <th>debut</th>\n",
       "      <th>park</th>\n",
       "      <th>playerAge</th>\n",
       "      <th>yearsInMLB</th>\n",
       "      <th>playerFullName</th>\n",
       "    </tr>\n",
       "  </thead>\n",
       "  <tbody>\n",
       "    <tr>\n",
       "      <th>448</th>\n",
       "      <td>abadan01</td>\n",
       "      <td>2001</td>\n",
       "      <td>OAK</td>\n",
       "      <td>1</td>\n",
       "      <td>0</td>\n",
       "      <td>2</td>\n",
       "      <td>Andy</td>\n",
       "      <td>Abad</td>\n",
       "      <td>1972</td>\n",
       "      <td>2001-09-10</td>\n",
       "      <td>Oakland Coliseum</td>\n",
       "      <td>29</td>\n",
       "      <td>1</td>\n",
       "      <td>Andy Abad</td>\n",
       "    </tr>\n",
       "    <tr>\n",
       "      <th>468</th>\n",
       "      <td>abadan01</td>\n",
       "      <td>2003</td>\n",
       "      <td>BOS</td>\n",
       "      <td>17</td>\n",
       "      <td>0</td>\n",
       "      <td>2</td>\n",
       "      <td>Andy</td>\n",
       "      <td>Abad</td>\n",
       "      <td>1972</td>\n",
       "      <td>2001-09-10</td>\n",
       "      <td>Fenway Park II</td>\n",
       "      <td>31</td>\n",
       "      <td>2</td>\n",
       "      <td>Andy Abad</td>\n",
       "    </tr>\n",
       "    <tr>\n",
       "      <th>1065</th>\n",
       "      <td>abercre01</td>\n",
       "      <td>2006</td>\n",
       "      <td>FLO</td>\n",
       "      <td>255</td>\n",
       "      <td>5</td>\n",
       "      <td>7</td>\n",
       "      <td>Reggie</td>\n",
       "      <td>Abercrombie</td>\n",
       "      <td>1980</td>\n",
       "      <td>2006-04-04</td>\n",
       "      <td>Dolphin Stadium</td>\n",
       "      <td>26</td>\n",
       "      <td>1</td>\n",
       "      <td>Reggie Abercrombie</td>\n",
       "    </tr>\n",
       "    <tr>\n",
       "      <th>1084</th>\n",
       "      <td>abercre01</td>\n",
       "      <td>2007</td>\n",
       "      <td>FLO</td>\n",
       "      <td>76</td>\n",
       "      <td>2</td>\n",
       "      <td>7</td>\n",
       "      <td>Reggie</td>\n",
       "      <td>Abercrombie</td>\n",
       "      <td>1980</td>\n",
       "      <td>2006-04-04</td>\n",
       "      <td>Dolphin Stadium</td>\n",
       "      <td>27</td>\n",
       "      <td>2</td>\n",
       "      <td>Reggie Abercrombie</td>\n",
       "    </tr>\n",
       "    <tr>\n",
       "      <th>1105</th>\n",
       "      <td>abercre01</td>\n",
       "      <td>2008</td>\n",
       "      <td>HOU</td>\n",
       "      <td>55</td>\n",
       "      <td>2</td>\n",
       "      <td>6</td>\n",
       "      <td>Reggie</td>\n",
       "      <td>Abercrombie</td>\n",
       "      <td>1980</td>\n",
       "      <td>2006-04-04</td>\n",
       "      <td>Minute Maid Park</td>\n",
       "      <td>28</td>\n",
       "      <td>3</td>\n",
       "      <td>Reggie Abercrombie</td>\n",
       "    </tr>\n",
       "    <tr>\n",
       "      <th>...</th>\n",
       "      <td>...</td>\n",
       "      <td>...</td>\n",
       "      <td>...</td>\n",
       "      <td>...</td>\n",
       "      <td>...</td>\n",
       "      <td>...</td>\n",
       "      <td>...</td>\n",
       "      <td>...</td>\n",
       "      <td>...</td>\n",
       "      <td>...</td>\n",
       "      <td>...</td>\n",
       "      <td>...</td>\n",
       "      <td>...</td>\n",
       "      <td>...</td>\n",
       "    </tr>\n",
       "    <tr>\n",
       "      <th>2279</th>\n",
       "      <td>zuninmi01</td>\n",
       "      <td>2014</td>\n",
       "      <td>SEA</td>\n",
       "      <td>438</td>\n",
       "      <td>22</td>\n",
       "      <td>1</td>\n",
       "      <td>Mike</td>\n",
       "      <td>Zunino</td>\n",
       "      <td>1991</td>\n",
       "      <td>2013-06-12</td>\n",
       "      <td>Safeco Field</td>\n",
       "      <td>23</td>\n",
       "      <td>2</td>\n",
       "      <td>Mike Zunino</td>\n",
       "    </tr>\n",
       "    <tr>\n",
       "      <th>2302</th>\n",
       "      <td>zuninmi01</td>\n",
       "      <td>2015</td>\n",
       "      <td>SEA</td>\n",
       "      <td>350</td>\n",
       "      <td>11</td>\n",
       "      <td>1</td>\n",
       "      <td>Mike</td>\n",
       "      <td>Zunino</td>\n",
       "      <td>1991</td>\n",
       "      <td>2013-06-12</td>\n",
       "      <td>Safeco Field</td>\n",
       "      <td>24</td>\n",
       "      <td>3</td>\n",
       "      <td>Mike Zunino</td>\n",
       "    </tr>\n",
       "    <tr>\n",
       "      <th>19332</th>\n",
       "      <td>zuninmi01</td>\n",
       "      <td>2016</td>\n",
       "      <td>SEA</td>\n",
       "      <td>164</td>\n",
       "      <td>12</td>\n",
       "      <td>1</td>\n",
       "      <td>Mike</td>\n",
       "      <td>Zunino</td>\n",
       "      <td>1991</td>\n",
       "      <td>2013-06-12</td>\n",
       "      <td>Safeco Field</td>\n",
       "      <td>25</td>\n",
       "      <td>4</td>\n",
       "      <td>Mike Zunino</td>\n",
       "    </tr>\n",
       "    <tr>\n",
       "      <th>35876</th>\n",
       "      <td>zuninmi01</td>\n",
       "      <td>2017</td>\n",
       "      <td>SEA</td>\n",
       "      <td>387</td>\n",
       "      <td>25</td>\n",
       "      <td>1</td>\n",
       "      <td>Mike</td>\n",
       "      <td>Zunino</td>\n",
       "      <td>1991</td>\n",
       "      <td>2013-06-12</td>\n",
       "      <td>Safeco Field</td>\n",
       "      <td>26</td>\n",
       "      <td>5</td>\n",
       "      <td>Mike Zunino</td>\n",
       "    </tr>\n",
       "    <tr>\n",
       "      <th>35896</th>\n",
       "      <td>zuninmi01</td>\n",
       "      <td>2018</td>\n",
       "      <td>SEA</td>\n",
       "      <td>373</td>\n",
       "      <td>20</td>\n",
       "      <td>1</td>\n",
       "      <td>Mike</td>\n",
       "      <td>Zunino</td>\n",
       "      <td>1991</td>\n",
       "      <td>2013-06-12</td>\n",
       "      <td>Safeco Field</td>\n",
       "      <td>27</td>\n",
       "      <td>6</td>\n",
       "      <td>Mike Zunino</td>\n",
       "    </tr>\n",
       "  </tbody>\n",
       "</table>\n",
       "<p>8597 rows × 14 columns</p>\n",
       "</div>"
      ],
      "text/plain": [
       "        playerID  yearID team   AB  HR  position_main nameFirst     nameLast  \\\n",
       "448     abadan01    2001  OAK    1   0              2      Andy         Abad   \n",
       "468     abadan01    2003  BOS   17   0              2      Andy         Abad   \n",
       "1065   abercre01    2006  FLO  255   5              7    Reggie  Abercrombie   \n",
       "1084   abercre01    2007  FLO   76   2              7    Reggie  Abercrombie   \n",
       "1105   abercre01    2008  HOU   55   2              6    Reggie  Abercrombie   \n",
       "...          ...     ...  ...  ...  ..            ...       ...          ...   \n",
       "2279   zuninmi01    2014  SEA  438  22              1      Mike       Zunino   \n",
       "2302   zuninmi01    2015  SEA  350  11              1      Mike       Zunino   \n",
       "19332  zuninmi01    2016  SEA  164  12              1      Mike       Zunino   \n",
       "35876  zuninmi01    2017  SEA  387  25              1      Mike       Zunino   \n",
       "35896  zuninmi01    2018  SEA  373  20              1      Mike       Zunino   \n",
       "\n",
       "       birthYear      debut              park  playerAge  yearsInMLB  \\\n",
       "448         1972 2001-09-10  Oakland Coliseum         29           1   \n",
       "468         1972 2001-09-10    Fenway Park II         31           2   \n",
       "1065        1980 2006-04-04   Dolphin Stadium         26           1   \n",
       "1084        1980 2006-04-04   Dolphin Stadium         27           2   \n",
       "1105        1980 2006-04-04  Minute Maid Park         28           3   \n",
       "...          ...        ...               ...        ...         ...   \n",
       "2279        1991 2013-06-12      Safeco Field         23           2   \n",
       "2302        1991 2013-06-12      Safeco Field         24           3   \n",
       "19332       1991 2013-06-12      Safeco Field         25           4   \n",
       "35876       1991 2013-06-12      Safeco Field         26           5   \n",
       "35896       1991 2013-06-12      Safeco Field         27           6   \n",
       "\n",
       "           playerFullName  \n",
       "448             Andy Abad  \n",
       "468             Andy Abad  \n",
       "1065   Reggie Abercrombie  \n",
       "1084   Reggie Abercrombie  \n",
       "1105   Reggie Abercrombie  \n",
       "...                   ...  \n",
       "2279          Mike Zunino  \n",
       "2302          Mike Zunino  \n",
       "19332         Mike Zunino  \n",
       "35876         Mike Zunino  \n",
       "35896         Mike Zunino  \n",
       "\n",
       "[8597 rows x 14 columns]"
      ]
     },
     "execution_count": 81,
     "metadata": {},
     "output_type": "execute_result"
    }
   ],
   "source": [
    "data.astype({'birthYear': np.int64, 'playerAge': np.int64, 'yearsInMLB': np.int64})"
   ]
  },
  {
   "cell_type": "code",
   "execution_count": null,
   "metadata": {},
   "outputs": [],
   "source": []
  }
 ],
 "metadata": {
  "kernelspec": {
   "display_name": "Python 3.8 (jupyter)",
   "language": "python",
   "name": "jupyter"
  },
  "language_info": {
   "codemirror_mode": {
    "name": "ipython",
    "version": 3
   },
   "file_extension": ".py",
   "mimetype": "text/x-python",
   "name": "python",
   "nbconvert_exporter": "python",
   "pygments_lexer": "ipython3",
   "version": "3.8.3"
  }
 },
 "nbformat": 4,
 "nbformat_minor": 4
}
