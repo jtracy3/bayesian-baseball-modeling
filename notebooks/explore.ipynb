{
 "cells": [
  {
   "cell_type": "code",
   "execution_count": 1,
   "metadata": {
    "pycharm": {
     "is_executing": false
    }
   },
   "outputs": [],
   "source": [
    "import matplotlib as mpl\n",
    "import matplotlib.pyplot as plt\n",
    "\n",
    "import numpy as np\n",
    "import pandas as pd"
   ]
  },
  {
   "cell_type": "code",
   "execution_count": 2,
   "metadata": {
    "pycharm": {
     "is_executing": false
    }
   },
   "outputs": [],
   "source": [
    "players = pd.read_csv('baseballdata/People.csv')\n",
    "batting = pd.read_csv('baseballdata/Batting.csv')"
   ]
  },
  {
   "cell_type": "code",
   "execution_count": 3,
   "metadata": {
    "pycharm": {
     "is_executing": false
    }
   },
   "outputs": [],
   "source": [
    "class PlayerData:\n",
    "\n",
    "    def __init__(self, player_id):\n",
    "        self.player_id = player_id\n",
    "        self.batting = self._get_batting_data()\n",
    "        self.personal = self._get_personal_data()\n",
    "        self.player_name = self._get_player_name()\n",
    "\n",
    "    def _get_batting_data(self):\n",
    "        return batting.query(f\"playerID == '{self.player_id}'\")\n",
    "\n",
    "    def _get_personal_data(self):\n",
    "        return players.query(f\"playerID == '{self.player_id}'\")\n",
    "\n",
    "    def _get_player_name(self):\n",
    "        return self.personal.nameFirst + ' ' + self.personal.nameLast\n",
    "\n",
    "    def career_hr(self):\n",
    "        return self.batting.groupby('playerID')['HR'].sum().values\n",
    "    "
   ]
  },
  {
   "cell_type": "markdown",
   "execution_count": null,
   "metadata": {},
   "outputs": [],
   "source": [
    "Get Derek Jeter's Player ID to check the player data class"
   ]
  },
  {
   "cell_type": "code",
   "metadata": {
    "pycharm": {
     "is_executing": false,
     "name": "#%%\n"
    }
   },
   "source": [
    "dj = PlayerData('jeterde01')"
   ],
   "execution_count": null,
   "outputs": []
  },
  {
   "cell_type": "code",
   "execution_count": 5,
   "metadata": {
    "pycharm": {
     "is_executing": false
    }
   },
   "outputs": [
    {
     "data": {
      "text/plain": "array([260])"
     },
     "metadata": {},
     "output_type": "execute_result",
     "execution_count": 5
    }
   ],
   "source": [
    "dj.career_hr()"
   ]
  },
  {
   "cell_type": "code",
   "execution_count": 6,
   "metadata": {
    "pycharm": {
     "is_executing": false
    }
   },
   "outputs": [
    {
     "data": {
      "text/plain": "8682    Derek Jeter\ndtype: object"
     },
     "metadata": {},
     "output_type": "execute_result",
     "execution_count": 6
    }
   ],
   "source": [
    "dj.player_name"
   ]
  },
  {
   "cell_type": "code",
   "execution_count": null,
   "outputs": [],
   "source": [
    "\n"
   ],
   "metadata": {
    "collapsed": false,
    "pycharm": {
     "name": "#%%\n"
    }
   }
  }
 ],
 "metadata": {
  "kernelspec": {
   "name": ".env",
   "language": "python",
   "display_name": ".env"
  },
  "pycharm": {
   "stem_cell": {
    "cell_type": "raw",
    "source": [],
    "metadata": {
     "collapsed": false
    }
   }
  }
 },
 "nbformat": 4,
 "nbformat_minor": 4
}