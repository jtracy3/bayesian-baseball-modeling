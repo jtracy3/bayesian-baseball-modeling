{
 "cells": [
  {
   "cell_type": "code",
   "execution_count": 1,
   "metadata": {},
   "outputs": [],
   "source": [
    "import numpy as np\n",
    "import pandas as pd\n",
    "import scipy.stats as stats\n",
    "from scipy.special import binom\n",
    "import matplotlib.pyplot as plt\n",
    "import matplotlib as mpl"
   ]
  },
  {
   "cell_type": "markdown",
   "metadata": {},
   "source": [
    "Identify all the different combinations of parameters\n",
    "\n",
    "_62_ different ballpark ballpark coefficients $\\beta$ share a common normal distribution,\n",
    "$$\\beta_l \\sim \\text{Normal}(0, \\tau^2) \\quad \\forall \\quad l=1,...,62$$\n",
    "\n",
    "_9L_ different spline coefficients needed for modeling position-age trajectories,\n",
    "$$\\gamma_{kl} \\sim \\text{Normal}(0, \\tau^2) \\quad \\forall \\quad k=1,...,9 \\quad l=1,...,L$$\n",
    "\n",
    "_9_ tuples, 2 values for each position $\\mathbf{\\alpha_k} = (\\alpha_{k0}, \\alpha_{k1})$,\n",
    "$$\\mathbf{\\alpha_k} \\sim \\text{MVNormal}(\\mathbf{0}, \\tau^2\\mathbf{I_2}\\cdot\\text{Ind}(\\alpha_{k0}, \\alpha_{k1})) \\quad \\forall \\quad k = 1,...,9$$\n",
    "\n",
    "_18_ position specific transition parameters for our elite status\n",
    "$$(\\nu_{00k}, \\nu_{01k}) \\sim \\text{Dirichlet}(\\omega, \\omega) \\quad \\forall \\quad k=1,...,9$$\n",
    "$$(\\nu_{10k}, \\nu_{11k}) \\sim \\text{Dirichlet}(\\omega, \\omega) \\quad \\forall \\quad k=1,...,9$$\n",
    "\n",
    "Player-year rate $\\theta_{ij}$ as a function of home ballpark $b=B_{ij}$, position $k=R_{ij}$ and age $A_{ij}$ of player $i$ in year $j$\n",
    "$$\\text{log}(\\frac{\\theta_{ij}}{1-\\theta_{ij}})=\\alpha_k+\\beta_b+f_k(A_{ij})$$"
   ]
  },
  {
   "cell_type": "code",
   "execution_count": 2,
   "metadata": {},
   "outputs": [],
   "source": [
    "def dark_theme(active=True):\n",
    "    '''\n",
    "    Still need to run magic command: %matplotlib inline\n",
    "    rcParams keys:\n",
    "    Note: plt.style.use('ggplot') will not work w/ these settings\n",
    "    Face Color Reference\n",
    "    https://www.webucator.com/blog/2015/03/python-color-constants-module/\n",
    "    '''\n",
    "    if active == True:\n",
    "        import matplotlib as mpl\n",
    "        from cycler import cycler\n",
    "        mpl.rcParams['figure.figsize'] = 12, 8\n",
    "        mpl.rcParams['text.color'] = 'w'\n",
    "        mpl.rcParams['font.size'] = 10.0\n",
    "        mpl.rcParams['xtick.color'] = 'w'\n",
    "        mpl.rcParams['xtick.direction'] = 'out'\n",
    "        mpl.rcParams['ytick.color'] = 'w'\n",
    "        mpl.rcParams['ytick.direction'] = 'out'\n",
    "        mpl.rcParams['axes.labelcolor'] = 'w'\n",
    "        mpl.rcParams['axes.labelsize'] = 'x-large'\n",
    "        mpl.rcParams['axes.titlesize'] = 'xx-large'\n",
    "        mpl.rcParams['axes.facecolor'] = 'silver' # '#FFFFFF' # Background color e.g. #E5E5E5 = ggplot style, #BFEFFF light blue\n",
    "        mpl.rcParams['axes.linewidth'] = 1.0\n",
    "        mpl.rcParams['axes.axisbelow'] = True\n",
    "        \n",
    "        mpl.rcParams['legend.facecolor'] = 'grey'\n",
    "        mpl.rcParams['legend.frameon'] = True\n",
    "        # mpl.rcParams['axes.edgecolor'] = 'w'\n",
    "        mpl.rcParams['axes.prop_cycle'] = cycler('color', ['#E24A33', '#348ABD', '#988ED5', '#777777', '#FBC15E', '#8EBA42', '#FFB5B8'])\n",
    "        mpl.rcParams['axes.grid'] = True\n",
    "        mpl.rcParams['grid.alpha'] = 0.2\n",
    "        # mpl.rcParams['grid.color'] = '#FFFFFF'\n",
    "        mpl.rcParams['grid.color'] = 'k'\n",
    "        mpl.rcParams['grid.linestyle'] = '-'\n",
    "        mpl.rcParams['grid.linewidth'] = 1.0\n",
    "    elif active == False:\n",
    "        import matplotlib as mpl\n",
    "        mpl.rcParams.update(mpl.rcParamsDefault)"
   ]
  },
  {
   "cell_type": "markdown",
   "metadata": {},
   "source": [
    "Lookup how splines work and write some stuff about splines"
   ]
  },
  {
   "cell_type": "code",
   "execution_count": 3,
   "metadata": {},
   "outputs": [],
   "source": [
    "# plt.style.use('ggplot')\n",
    "dark_theme()"
   ]
  },
  {
   "cell_type": "code",
   "execution_count": 4,
   "metadata": {},
   "outputs": [],
   "source": [
    "# Import cleaned test data"
   ]
  },
  {
   "cell_type": "code",
   "execution_count": 5,
   "metadata": {},
   "outputs": [],
   "source": [
    "test_data = pd.read_csv('../data/processed/test_data')"
   ]
  },
  {
   "cell_type": "code",
   "execution_count": 6,
   "metadata": {},
   "outputs": [
    {
     "data": {
      "text/html": [
       "<div>\n",
       "<style scoped>\n",
       "    .dataframe tbody tr th:only-of-type {\n",
       "        vertical-align: middle;\n",
       "    }\n",
       "\n",
       "    .dataframe tbody tr th {\n",
       "        vertical-align: top;\n",
       "    }\n",
       "\n",
       "    .dataframe thead th {\n",
       "        text-align: right;\n",
       "    }\n",
       "</style>\n",
       "<table border=\"1\" class=\"dataframe\">\n",
       "  <thead>\n",
       "    <tr style=\"text-align: right;\">\n",
       "      <th></th>\n",
       "      <th>playerID</th>\n",
       "      <th>yearID</th>\n",
       "      <th>HR</th>\n",
       "      <th>AB</th>\n",
       "      <th>playerAge</th>\n",
       "      <th>park</th>\n",
       "      <th>pos_main</th>\n",
       "      <th>yearsInMLB</th>\n",
       "      <th>full_name</th>\n",
       "    </tr>\n",
       "  </thead>\n",
       "  <tbody>\n",
       "    <tr>\n",
       "      <th>0</th>\n",
       "      <td>ransoco01</td>\n",
       "      <td>2004</td>\n",
       "      <td>1</td>\n",
       "      <td>68</td>\n",
       "      <td>28</td>\n",
       "      <td>SBC Park</td>\n",
       "      <td>SS</td>\n",
       "      <td>4</td>\n",
       "      <td>Cody Ransom</td>\n",
       "    </tr>\n",
       "    <tr>\n",
       "      <th>1</th>\n",
       "      <td>torreyo01</td>\n",
       "      <td>2004</td>\n",
       "      <td>6</td>\n",
       "      <td>172</td>\n",
       "      <td>26</td>\n",
       "      <td>SBC Park</td>\n",
       "      <td>C</td>\n",
       "      <td>4</td>\n",
       "      <td>Yorvit Torrealba</td>\n",
       "    </tr>\n",
       "    <tr>\n",
       "      <th>2</th>\n",
       "      <td>theriry01</td>\n",
       "      <td>2006</td>\n",
       "      <td>3</td>\n",
       "      <td>134</td>\n",
       "      <td>27</td>\n",
       "      <td>Wrigley Field</td>\n",
       "      <td>2B</td>\n",
       "      <td>2</td>\n",
       "      <td>Ryan Theriot</td>\n",
       "    </tr>\n",
       "    <tr>\n",
       "      <th>3</th>\n",
       "      <td>credejo01</td>\n",
       "      <td>2007</td>\n",
       "      <td>4</td>\n",
       "      <td>167</td>\n",
       "      <td>29</td>\n",
       "      <td>U.S. Cellular Field</td>\n",
       "      <td>3B</td>\n",
       "      <td>8</td>\n",
       "      <td>Joe Crede</td>\n",
       "    </tr>\n",
       "    <tr>\n",
       "      <th>4</th>\n",
       "      <td>mackoro01</td>\n",
       "      <td>2007</td>\n",
       "      <td>6</td>\n",
       "      <td>237</td>\n",
       "      <td>31</td>\n",
       "      <td>U.S. Cellular Field</td>\n",
       "      <td>LF</td>\n",
       "      <td>7</td>\n",
       "      <td>Rob Mackowiak</td>\n",
       "    </tr>\n",
       "    <tr>\n",
       "      <th>5</th>\n",
       "      <td>ozunapa01</td>\n",
       "      <td>2007</td>\n",
       "      <td>0</td>\n",
       "      <td>78</td>\n",
       "      <td>33</td>\n",
       "      <td>U.S. Cellular Field</td>\n",
       "      <td>3B</td>\n",
       "      <td>8</td>\n",
       "      <td>Pablo Ozuna</td>\n",
       "    </tr>\n",
       "    <tr>\n",
       "      <th>6</th>\n",
       "      <td>podsesc01</td>\n",
       "      <td>2007</td>\n",
       "      <td>2</td>\n",
       "      <td>214</td>\n",
       "      <td>31</td>\n",
       "      <td>U.S. Cellular Field</td>\n",
       "      <td>LF</td>\n",
       "      <td>7</td>\n",
       "      <td>Scott Podsednik</td>\n",
       "    </tr>\n",
       "    <tr>\n",
       "      <th>7</th>\n",
       "      <td>uribeju01</td>\n",
       "      <td>2007</td>\n",
       "      <td>20</td>\n",
       "      <td>513</td>\n",
       "      <td>28</td>\n",
       "      <td>U.S. Cellular Field</td>\n",
       "      <td>SS</td>\n",
       "      <td>7</td>\n",
       "      <td>Juan Uribe</td>\n",
       "    </tr>\n",
       "    <tr>\n",
       "      <th>8</th>\n",
       "      <td>ellsbja01</td>\n",
       "      <td>2008</td>\n",
       "      <td>9</td>\n",
       "      <td>554</td>\n",
       "      <td>25</td>\n",
       "      <td>Fenway Park II</td>\n",
       "      <td>CF</td>\n",
       "      <td>2</td>\n",
       "      <td>Jacoby Ellsbury</td>\n",
       "    </tr>\n",
       "    <tr>\n",
       "      <th>9</th>\n",
       "      <td>thursjo01</td>\n",
       "      <td>2008</td>\n",
       "      <td>0</td>\n",
       "      <td>8</td>\n",
       "      <td>29</td>\n",
       "      <td>Fenway Park II</td>\n",
       "      <td>LF</td>\n",
       "      <td>7</td>\n",
       "      <td>Joe Thurston</td>\n",
       "    </tr>\n",
       "    <tr>\n",
       "      <th>10</th>\n",
       "      <td>burkeja02</td>\n",
       "      <td>2009</td>\n",
       "      <td>1</td>\n",
       "      <td>41</td>\n",
       "      <td>38</td>\n",
       "      <td>Safeco Field</td>\n",
       "      <td>C</td>\n",
       "      <td>9</td>\n",
       "      <td>Jamie Burke</td>\n",
       "    </tr>\n",
       "    <tr>\n",
       "      <th>11</th>\n",
       "      <td>suzukic01</td>\n",
       "      <td>2009</td>\n",
       "      <td>11</td>\n",
       "      <td>639</td>\n",
       "      <td>36</td>\n",
       "      <td>Safeco Field</td>\n",
       "      <td>RF</td>\n",
       "      <td>9</td>\n",
       "      <td>Ichiro Suzuki</td>\n",
       "    </tr>\n",
       "    <tr>\n",
       "      <th>12</th>\n",
       "      <td>figgich01</td>\n",
       "      <td>2010</td>\n",
       "      <td>1</td>\n",
       "      <td>602</td>\n",
       "      <td>32</td>\n",
       "      <td>Safeco Field</td>\n",
       "      <td>2B</td>\n",
       "      <td>9</td>\n",
       "      <td>Chone Figgins</td>\n",
       "    </tr>\n",
       "    <tr>\n",
       "      <th>13</th>\n",
       "      <td>suzukic01</td>\n",
       "      <td>2010</td>\n",
       "      <td>6</td>\n",
       "      <td>680</td>\n",
       "      <td>37</td>\n",
       "      <td>Safeco Field</td>\n",
       "      <td>RF</td>\n",
       "      <td>10</td>\n",
       "      <td>Ichiro Suzuki</td>\n",
       "    </tr>\n",
       "    <tr>\n",
       "      <th>14</th>\n",
       "      <td>canoro01</td>\n",
       "      <td>2012</td>\n",
       "      <td>33</td>\n",
       "      <td>627</td>\n",
       "      <td>30</td>\n",
       "      <td>Yankee Stadium III</td>\n",
       "      <td>2B</td>\n",
       "      <td>8</td>\n",
       "      <td>Robinson Cano</td>\n",
       "    </tr>\n",
       "    <tr>\n",
       "      <th>15</th>\n",
       "      <td>cervefr01</td>\n",
       "      <td>2012</td>\n",
       "      <td>0</td>\n",
       "      <td>1</td>\n",
       "      <td>26</td>\n",
       "      <td>Yankee Stadium III</td>\n",
       "      <td>C</td>\n",
       "      <td>5</td>\n",
       "      <td>Francisco Cervelli</td>\n",
       "    </tr>\n",
       "    <tr>\n",
       "      <th>16</th>\n",
       "      <td>pearcst01</td>\n",
       "      <td>2012</td>\n",
       "      <td>1</td>\n",
       "      <td>25</td>\n",
       "      <td>29</td>\n",
       "      <td>Yankee Stadium III</td>\n",
       "      <td>1B</td>\n",
       "      <td>6</td>\n",
       "      <td>Steve Pearce</td>\n",
       "    </tr>\n",
       "    <tr>\n",
       "      <th>17</th>\n",
       "      <td>stewach01</td>\n",
       "      <td>2012</td>\n",
       "      <td>1</td>\n",
       "      <td>141</td>\n",
       "      <td>30</td>\n",
       "      <td>Yankee Stadium III</td>\n",
       "      <td>C</td>\n",
       "      <td>7</td>\n",
       "      <td>Chris Stewart</td>\n",
       "    </tr>\n",
       "    <tr>\n",
       "      <th>18</th>\n",
       "      <td>suzukic01</td>\n",
       "      <td>2012</td>\n",
       "      <td>5</td>\n",
       "      <td>227</td>\n",
       "      <td>39</td>\n",
       "      <td>Yankee Stadium III</td>\n",
       "      <td>RF</td>\n",
       "      <td>12</td>\n",
       "      <td>Ichiro Suzuki</td>\n",
       "    </tr>\n",
       "    <tr>\n",
       "      <th>19</th>\n",
       "      <td>swishni01</td>\n",
       "      <td>2012</td>\n",
       "      <td>24</td>\n",
       "      <td>537</td>\n",
       "      <td>32</td>\n",
       "      <td>Yankee Stadium III</td>\n",
       "      <td>RF</td>\n",
       "      <td>9</td>\n",
       "      <td>Nick Swisher</td>\n",
       "    </tr>\n",
       "  </tbody>\n",
       "</table>\n",
       "</div>"
      ],
      "text/plain": [
       "     playerID  yearID  HR   AB  playerAge                 park pos_main  \\\n",
       "0   ransoco01    2004   1   68         28             SBC Park       SS   \n",
       "1   torreyo01    2004   6  172         26             SBC Park        C   \n",
       "2   theriry01    2006   3  134         27        Wrigley Field       2B   \n",
       "3   credejo01    2007   4  167         29  U.S. Cellular Field       3B   \n",
       "4   mackoro01    2007   6  237         31  U.S. Cellular Field       LF   \n",
       "5   ozunapa01    2007   0   78         33  U.S. Cellular Field       3B   \n",
       "6   podsesc01    2007   2  214         31  U.S. Cellular Field       LF   \n",
       "7   uribeju01    2007  20  513         28  U.S. Cellular Field       SS   \n",
       "8   ellsbja01    2008   9  554         25       Fenway Park II       CF   \n",
       "9   thursjo01    2008   0    8         29       Fenway Park II       LF   \n",
       "10  burkeja02    2009   1   41         38         Safeco Field        C   \n",
       "11  suzukic01    2009  11  639         36         Safeco Field       RF   \n",
       "12  figgich01    2010   1  602         32         Safeco Field       2B   \n",
       "13  suzukic01    2010   6  680         37         Safeco Field       RF   \n",
       "14   canoro01    2012  33  627         30   Yankee Stadium III       2B   \n",
       "15  cervefr01    2012   0    1         26   Yankee Stadium III        C   \n",
       "16  pearcst01    2012   1   25         29   Yankee Stadium III       1B   \n",
       "17  stewach01    2012   1  141         30   Yankee Stadium III        C   \n",
       "18  suzukic01    2012   5  227         39   Yankee Stadium III       RF   \n",
       "19  swishni01    2012  24  537         32   Yankee Stadium III       RF   \n",
       "\n",
       "    yearsInMLB           full_name  \n",
       "0            4         Cody Ransom  \n",
       "1            4    Yorvit Torrealba  \n",
       "2            2        Ryan Theriot  \n",
       "3            8           Joe Crede  \n",
       "4            7       Rob Mackowiak  \n",
       "5            8         Pablo Ozuna  \n",
       "6            7     Scott Podsednik  \n",
       "7            7          Juan Uribe  \n",
       "8            2     Jacoby Ellsbury  \n",
       "9            7        Joe Thurston  \n",
       "10           9         Jamie Burke  \n",
       "11           9       Ichiro Suzuki  \n",
       "12           9       Chone Figgins  \n",
       "13          10       Ichiro Suzuki  \n",
       "14           8       Robinson Cano  \n",
       "15           5  Francisco Cervelli  \n",
       "16           6        Steve Pearce  \n",
       "17           7       Chris Stewart  \n",
       "18          12       Ichiro Suzuki  \n",
       "19           9        Nick Swisher  "
      ]
     },
     "execution_count": 6,
     "metadata": {},
     "output_type": "execute_result"
    }
   ],
   "source": [
    "test_data.head(20)"
   ]
  },
  {
   "cell_type": "code",
   "execution_count": 7,
   "metadata": {},
   "outputs": [
    {
     "data": {
      "text/plain": [
       "(968, 9)"
      ]
     },
     "execution_count": 7,
     "metadata": {},
     "output_type": "execute_result"
    }
   ],
   "source": [
    "test_data.shape"
   ]
  },
  {
   "cell_type": "code",
   "execution_count": 8,
   "metadata": {},
   "outputs": [],
   "source": [
    "hrs_park = test_data.groupby('park')['HR'].sum().sort_values(ascending=False)\n",
    "hrs_age = test_data.groupby('playerAge')['HR'].sum().sort_values(ascending=False)\n",
    "hrs_pos = test_data.groupby('pos_main')['HR'].sum().sort_values(ascending=False)"
   ]
  },
  {
   "cell_type": "code",
   "execution_count": 9,
   "metadata": {},
   "outputs": [
    {
     "data": {
      "image/png": "[encoded data removed]",
      "text/plain": [
       "<Figure size 720x576 with 1 Axes>"
      ]
     },
     "metadata": {
      "needs_background": "dark"
     },
     "output_type": "display_data"
    }
   ],
   "source": [
    "plt.figure(figsize=(10,8))\n",
    "plt.bar(hrs_park.index, hrs_park.values)\n",
    "plt.xticks(rotation=90)\n",
    "plt.show()"
   ]
  },
  {
   "cell_type": "code",
   "execution_count": 10,
   "metadata": {},
   "outputs": [
    {
     "data": {
      "image/png": "[encoded data removed]",
      "text/plain": [
       "<Figure size 720x576 with 1 Axes>"
      ]
     },
     "metadata": {
      "needs_background": "dark"
     },
     "output_type": "display_data"
    }
   ],
   "source": [
    "plt.figure(figsize=(10,8))\n",
    "plt.bar(hrs_age.index, hrs_age.values)\n",
    "plt.xticks(rotation=90)\n",
    "plt.show()"
   ]
  },
  {
   "cell_type": "code",
   "execution_count": 11,
   "metadata": {},
   "outputs": [
    {
     "data": {
      "image/png": "[encoded data removed]",
      "text/plain": [
       "<Figure size 720x576 with 1 Axes>"
      ]
     },
     "metadata": {
      "needs_background": "dark"
     },
     "output_type": "display_data"
    }
   ],
   "source": [
    "plt.figure(figsize=(10,8))\n",
    "plt.bar(hrs_pos.index, hrs_pos.values)\n",
    "plt.xticks(rotation=90)\n",
    "plt.show()"
   ]
  },
  {
   "cell_type": "code",
   "execution_count": 12,
   "metadata": {},
   "outputs": [
    {
     "data": {
      "text/plain": [
       "pos_main\n",
       "C     194\n",
       "3B    123\n",
       "CF    118\n",
       "SS    114\n",
       "LF    108\n",
       "1B    108\n",
       "2B     94\n",
       "RF     85\n",
       "DH     24\n",
       "Name: playerAge, dtype: int64"
      ]
     },
     "execution_count": 12,
     "metadata": {},
     "output_type": "execute_result"
    }
   ],
   "source": [
    "test_data.groupby('pos_main')['playerAge'].count().sort_values(ascending=False)"
   ]
  },
  {
   "cell_type": "markdown",
   "metadata": {},
   "source": [
    "Initialize elite status"
   ]
  },
  {
   "cell_type": "code",
   "execution_count": 13,
   "metadata": {},
   "outputs": [],
   "source": [
    "elite_status = stats.bernoulli.rvs(p=0.1, size=len(test_data))\n",
    "test_data['elite_status'] = elite_status"
   ]
  },
  {
   "cell_type": "code",
   "execution_count": 14,
   "metadata": {},
   "outputs": [],
   "source": [
    "test_data = test_data.sort_values(by=['playerID', 'yearID'])"
   ]
  },
  {
   "cell_type": "code",
   "execution_count": 15,
   "metadata": {},
   "outputs": [],
   "source": [
    "test_data['elite_status_prev'] = test_data.groupby('playerID')['elite_status'].shift(1)\n",
    "test_data['year_in_league'] = (test_data.yearID - test_data.groupby('playerID').yearID.transform('min')) + 1"
   ]
  },
  {
   "cell_type": "code",
   "execution_count": 16,
   "metadata": {},
   "outputs": [
    {
     "data": {
      "text/html": [
       "<div>\n",
       "<style scoped>\n",
       "    .dataframe tbody tr th:only-of-type {\n",
       "        vertical-align: middle;\n",
       "    }\n",
       "\n",
       "    .dataframe tbody tr th {\n",
       "        vertical-align: top;\n",
       "    }\n",
       "\n",
       "    .dataframe thead th {\n",
       "        text-align: right;\n",
       "    }\n",
       "</style>\n",
       "<table border=\"1\" class=\"dataframe\">\n",
       "  <thead>\n",
       "    <tr style=\"text-align: right;\">\n",
       "      <th></th>\n",
       "      <th>playerID</th>\n",
       "      <th>yearID</th>\n",
       "      <th>HR</th>\n",
       "      <th>AB</th>\n",
       "      <th>playerAge</th>\n",
       "      <th>park</th>\n",
       "      <th>pos_main</th>\n",
       "      <th>yearsInMLB</th>\n",
       "      <th>full_name</th>\n",
       "      <th>elite_status</th>\n",
       "      <th>elite_status_prev</th>\n",
       "      <th>year_in_league</th>\n",
       "    </tr>\n",
       "  </thead>\n",
       "  <tbody>\n",
       "    <tr>\n",
       "      <th>92</th>\n",
       "      <td>abreuto01</td>\n",
       "      <td>2007</td>\n",
       "      <td>2</td>\n",
       "      <td>166</td>\n",
       "      <td>23</td>\n",
       "      <td>Dodger Stadium</td>\n",
       "      <td>3B</td>\n",
       "      <td>1</td>\n",
       "      <td>Tony Abreu</td>\n",
       "      <td>0</td>\n",
       "      <td>NaN</td>\n",
       "      <td>1</td>\n",
       "    </tr>\n",
       "    <tr>\n",
       "      <th>94</th>\n",
       "      <td>abreuto01</td>\n",
       "      <td>2009</td>\n",
       "      <td>0</td>\n",
       "      <td>8</td>\n",
       "      <td>25</td>\n",
       "      <td>Dodger Stadium</td>\n",
       "      <td>2B</td>\n",
       "      <td>3</td>\n",
       "      <td>Tony Abreu</td>\n",
       "      <td>0</td>\n",
       "      <td>0.0</td>\n",
       "      <td>3</td>\n",
       "    </tr>\n",
       "    <tr>\n",
       "      <th>96</th>\n",
       "      <td>abreuto01</td>\n",
       "      <td>2010</td>\n",
       "      <td>1</td>\n",
       "      <td>193</td>\n",
       "      <td>26</td>\n",
       "      <td>Chase Field</td>\n",
       "      <td>3B</td>\n",
       "      <td>4</td>\n",
       "      <td>Tony Abreu</td>\n",
       "      <td>0</td>\n",
       "      <td>0.0</td>\n",
       "      <td>4</td>\n",
       "    </tr>\n",
       "    <tr>\n",
       "      <th>98</th>\n",
       "      <td>abreuto01</td>\n",
       "      <td>2012</td>\n",
       "      <td>1</td>\n",
       "      <td>70</td>\n",
       "      <td>28</td>\n",
       "      <td>Kauffman Stadium</td>\n",
       "      <td>2B</td>\n",
       "      <td>6</td>\n",
       "      <td>Tony Abreu</td>\n",
       "      <td>0</td>\n",
       "      <td>0.0</td>\n",
       "      <td>6</td>\n",
       "    </tr>\n",
       "    <tr>\n",
       "      <th>102</th>\n",
       "      <td>abreuto01</td>\n",
       "      <td>2013</td>\n",
       "      <td>2</td>\n",
       "      <td>138</td>\n",
       "      <td>29</td>\n",
       "      <td>AT&amp;T Park</td>\n",
       "      <td>2B</td>\n",
       "      <td>7</td>\n",
       "      <td>Tony Abreu</td>\n",
       "      <td>1</td>\n",
       "      <td>0.0</td>\n",
       "      <td>7</td>\n",
       "    </tr>\n",
       "    <tr>\n",
       "      <th>...</th>\n",
       "      <td>...</td>\n",
       "      <td>...</td>\n",
       "      <td>...</td>\n",
       "      <td>...</td>\n",
       "      <td>...</td>\n",
       "      <td>...</td>\n",
       "      <td>...</td>\n",
       "      <td>...</td>\n",
       "      <td>...</td>\n",
       "      <td>...</td>\n",
       "      <td>...</td>\n",
       "      <td>...</td>\n",
       "    </tr>\n",
       "    <tr>\n",
       "      <th>519</th>\n",
       "      <td>yelicch01</td>\n",
       "      <td>2014</td>\n",
       "      <td>9</td>\n",
       "      <td>582</td>\n",
       "      <td>23</td>\n",
       "      <td>Marlins Park</td>\n",
       "      <td>LF</td>\n",
       "      <td>2</td>\n",
       "      <td>Christian Yelich</td>\n",
       "      <td>0</td>\n",
       "      <td>0.0</td>\n",
       "      <td>2</td>\n",
       "    </tr>\n",
       "    <tr>\n",
       "      <th>521</th>\n",
       "      <td>yelicch01</td>\n",
       "      <td>2015</td>\n",
       "      <td>7</td>\n",
       "      <td>476</td>\n",
       "      <td>24</td>\n",
       "      <td>Marlins Park</td>\n",
       "      <td>LF</td>\n",
       "      <td>3</td>\n",
       "      <td>Christian Yelich</td>\n",
       "      <td>0</td>\n",
       "      <td>0.0</td>\n",
       "      <td>3</td>\n",
       "    </tr>\n",
       "    <tr>\n",
       "      <th>637</th>\n",
       "      <td>yelicch01</td>\n",
       "      <td>2016</td>\n",
       "      <td>21</td>\n",
       "      <td>578</td>\n",
       "      <td>25</td>\n",
       "      <td>Marlins Park</td>\n",
       "      <td>LF</td>\n",
       "      <td>4</td>\n",
       "      <td>Christian Yelich</td>\n",
       "      <td>0</td>\n",
       "      <td>0.0</td>\n",
       "      <td>4</td>\n",
       "    </tr>\n",
       "    <tr>\n",
       "      <th>600</th>\n",
       "      <td>yelicch01</td>\n",
       "      <td>2017</td>\n",
       "      <td>18</td>\n",
       "      <td>602</td>\n",
       "      <td>26</td>\n",
       "      <td>Marlins Park</td>\n",
       "      <td>CF</td>\n",
       "      <td>5</td>\n",
       "      <td>Christian Yelich</td>\n",
       "      <td>0</td>\n",
       "      <td>0.0</td>\n",
       "      <td>5</td>\n",
       "    </tr>\n",
       "    <tr>\n",
       "      <th>342</th>\n",
       "      <td>yelicch01</td>\n",
       "      <td>2018</td>\n",
       "      <td>36</td>\n",
       "      <td>574</td>\n",
       "      <td>27</td>\n",
       "      <td>Miller Park</td>\n",
       "      <td>LF</td>\n",
       "      <td>6</td>\n",
       "      <td>Christian Yelich</td>\n",
       "      <td>0</td>\n",
       "      <td>0.0</td>\n",
       "      <td>6</td>\n",
       "    </tr>\n",
       "  </tbody>\n",
       "</table>\n",
       "<p>968 rows × 12 columns</p>\n",
       "</div>"
      ],
      "text/plain": [
       "      playerID  yearID  HR   AB  playerAge              park pos_main  \\\n",
       "92   abreuto01    2007   2  166         23    Dodger Stadium       3B   \n",
       "94   abreuto01    2009   0    8         25    Dodger Stadium       2B   \n",
       "96   abreuto01    2010   1  193         26       Chase Field       3B   \n",
       "98   abreuto01    2012   1   70         28  Kauffman Stadium       2B   \n",
       "102  abreuto01    2013   2  138         29         AT&T Park       2B   \n",
       "..         ...     ...  ..  ...        ...               ...      ...   \n",
       "519  yelicch01    2014   9  582         23      Marlins Park       LF   \n",
       "521  yelicch01    2015   7  476         24      Marlins Park       LF   \n",
       "637  yelicch01    2016  21  578         25      Marlins Park       LF   \n",
       "600  yelicch01    2017  18  602         26      Marlins Park       CF   \n",
       "342  yelicch01    2018  36  574         27       Miller Park       LF   \n",
       "\n",
       "     yearsInMLB         full_name  elite_status  elite_status_prev  \\\n",
       "92            1        Tony Abreu             0                NaN   \n",
       "94            3        Tony Abreu             0                0.0   \n",
       "96            4        Tony Abreu             0                0.0   \n",
       "98            6        Tony Abreu             0                0.0   \n",
       "102           7        Tony Abreu             1                0.0   \n",
       "..          ...               ...           ...                ...   \n",
       "519           2  Christian Yelich             0                0.0   \n",
       "521           3  Christian Yelich             0                0.0   \n",
       "637           4  Christian Yelich             0                0.0   \n",
       "600           5  Christian Yelich             0                0.0   \n",
       "342           6  Christian Yelich             0                0.0   \n",
       "\n",
       "     year_in_league  \n",
       "92                1  \n",
       "94                3  \n",
       "96                4  \n",
       "98                6  \n",
       "102               7  \n",
       "..              ...  \n",
       "519               2  \n",
       "521               3  \n",
       "637               4  \n",
       "600               5  \n",
       "342               6  \n",
       "\n",
       "[968 rows x 12 columns]"
      ]
     },
     "execution_count": 16,
     "metadata": {},
     "output_type": "execute_result"
    }
   ],
   "source": [
    "test_data.sort_values(by=['playerID', 'yearID'])"
   ]
  },
  {
   "cell_type": "code",
   "execution_count": 17,
   "metadata": {},
   "outputs": [],
   "source": [
    "def theta(α, β, f_a):\n",
    "    return 1 / (1 + np.exp(α + β + f_a))"
   ]
  },
  {
   "cell_type": "code",
   "execution_count": 18,
   "metadata": {},
   "outputs": [],
   "source": [
    "def logit_theta(θ):\n",
    "    return np.log(θ/(1-θ))"
   ]
  },
  {
   "cell_type": "code",
   "execution_count": 19,
   "metadata": {},
   "outputs": [],
   "source": [
    "# def log_binom(x, n, p):\n",
    "#     return np.log(stats.binom(n, p).pmf(x))"
   ]
  },
  {
   "cell_type": "code",
   "execution_count": 20,
   "metadata": {},
   "outputs": [],
   "source": [
    "# def log_N(x, μ, σ):\n",
    "#     return np.log(stats.norm(μ, σ).pdf(x))"
   ]
  },
  {
   "cell_type": "code",
   "execution_count": 21,
   "metadata": {},
   "outputs": [],
   "source": [
    "# def log_D(x, ω: np.array):\n",
    "#     return np.log(stats.dirichlet(alpha=ω).pdf(x))"
   ]
  },
  {
   "cell_type": "code",
   "execution_count": 22,
   "metadata": {},
   "outputs": [],
   "source": [
    "def log_prior(alpha: dict, beta: dict, gamma: dict, nu: dict, omega: dict):\n",
    "    psum = 0\n",
    "    for x in beta.values():\n",
    "        psum += stats.norm(0, tau).logpdf(x)\n",
    "    for x in gamma.values():\n",
    "        psum += stats.norm(0, tau).logpdf(x)\n",
    "    for x1, x2 in alpha.values():\n",
    "        psum += stats.norm(0, tau).logpdf(x1) + stats.norm(0, tau).logpdf(x2)\n",
    "    # breakpoint()\n",
    "    for pos_vals, pos_params in zip(nu.values(), omega.values()):\n",
    "        for vals, params in zip(pos_vals, pos_params): \n",
    "            psum += stats.dirichlet.logpdf(vals, params)\n",
    "    return psum"
   ]
  },
  {
   "cell_type": "markdown",
   "metadata": {},
   "source": [
    "Write code for equation (9)"
   ]
  },
  {
   "cell_type": "code",
   "execution_count": 23,
   "metadata": {},
   "outputs": [],
   "source": [
    "cf = test_data[test_data.pos_main == 'CF']"
   ]
  },
  {
   "cell_type": "code",
   "execution_count": 24,
   "metadata": {},
   "outputs": [
    {
     "data": {
      "text/html": [
       "<div>\n",
       "<style scoped>\n",
       "    .dataframe tbody tr th:only-of-type {\n",
       "        vertical-align: middle;\n",
       "    }\n",
       "\n",
       "    .dataframe tbody tr th {\n",
       "        vertical-align: top;\n",
       "    }\n",
       "\n",
       "    .dataframe thead th {\n",
       "        text-align: right;\n",
       "    }\n",
       "</style>\n",
       "<table border=\"1\" class=\"dataframe\">\n",
       "  <thead>\n",
       "    <tr style=\"text-align: right;\">\n",
       "      <th></th>\n",
       "      <th>playerID</th>\n",
       "      <th>yearID</th>\n",
       "      <th>HR</th>\n",
       "      <th>AB</th>\n",
       "      <th>playerAge</th>\n",
       "      <th>park</th>\n",
       "      <th>pos_main</th>\n",
       "      <th>yearsInMLB</th>\n",
       "      <th>full_name</th>\n",
       "      <th>elite_status</th>\n",
       "      <th>elite_status_prev</th>\n",
       "      <th>year_in_league</th>\n",
       "    </tr>\n",
       "  </thead>\n",
       "  <tbody>\n",
       "    <tr>\n",
       "      <th>792</th>\n",
       "      <td>cainlo01</td>\n",
       "      <td>2010</td>\n",
       "      <td>1</td>\n",
       "      <td>147</td>\n",
       "      <td>24</td>\n",
       "      <td>Miller Park</td>\n",
       "      <td>CF</td>\n",
       "      <td>1</td>\n",
       "      <td>Lorenzo Cain</td>\n",
       "      <td>0</td>\n",
       "      <td>NaN</td>\n",
       "      <td>1</td>\n",
       "    </tr>\n",
       "    <tr>\n",
       "      <th>99</th>\n",
       "      <td>cainlo01</td>\n",
       "      <td>2012</td>\n",
       "      <td>7</td>\n",
       "      <td>222</td>\n",
       "      <td>26</td>\n",
       "      <td>Kauffman Stadium</td>\n",
       "      <td>CF</td>\n",
       "      <td>3</td>\n",
       "      <td>Lorenzo Cain</td>\n",
       "      <td>0</td>\n",
       "      <td>0.0</td>\n",
       "      <td>3</td>\n",
       "    </tr>\n",
       "    <tr>\n",
       "      <th>952</th>\n",
       "      <td>cainlo01</td>\n",
       "      <td>2013</td>\n",
       "      <td>4</td>\n",
       "      <td>399</td>\n",
       "      <td>27</td>\n",
       "      <td>Kauffman Stadium</td>\n",
       "      <td>CF</td>\n",
       "      <td>4</td>\n",
       "      <td>Lorenzo Cain</td>\n",
       "      <td>1</td>\n",
       "      <td>0.0</td>\n",
       "      <td>4</td>\n",
       "    </tr>\n",
       "    <tr>\n",
       "      <th>231</th>\n",
       "      <td>cainlo01</td>\n",
       "      <td>2014</td>\n",
       "      <td>5</td>\n",
       "      <td>471</td>\n",
       "      <td>28</td>\n",
       "      <td>Kauffman Stadium</td>\n",
       "      <td>CF</td>\n",
       "      <td>5</td>\n",
       "      <td>Lorenzo Cain</td>\n",
       "      <td>0</td>\n",
       "      <td>1.0</td>\n",
       "      <td>5</td>\n",
       "    </tr>\n",
       "    <tr>\n",
       "      <th>400</th>\n",
       "      <td>cainlo01</td>\n",
       "      <td>2015</td>\n",
       "      <td>16</td>\n",
       "      <td>551</td>\n",
       "      <td>29</td>\n",
       "      <td>Kauffman Stadium</td>\n",
       "      <td>CF</td>\n",
       "      <td>6</td>\n",
       "      <td>Lorenzo Cain</td>\n",
       "      <td>0</td>\n",
       "      <td>0.0</td>\n",
       "      <td>6</td>\n",
       "    </tr>\n",
       "    <tr>\n",
       "      <th>...</th>\n",
       "      <td>...</td>\n",
       "      <td>...</td>\n",
       "      <td>...</td>\n",
       "      <td>...</td>\n",
       "      <td>...</td>\n",
       "      <td>...</td>\n",
       "      <td>...</td>\n",
       "      <td>...</td>\n",
       "      <td>...</td>\n",
       "      <td>...</td>\n",
       "      <td>...</td>\n",
       "      <td>...</td>\n",
       "    </tr>\n",
       "    <tr>\n",
       "      <th>433</th>\n",
       "      <td>uptonbj01</td>\n",
       "      <td>2012</td>\n",
       "      <td>28</td>\n",
       "      <td>573</td>\n",
       "      <td>28</td>\n",
       "      <td>Tropicana Field</td>\n",
       "      <td>CF</td>\n",
       "      <td>9</td>\n",
       "      <td>Melvin Upton</td>\n",
       "      <td>0</td>\n",
       "      <td>1.0</td>\n",
       "      <td>9</td>\n",
       "    </tr>\n",
       "    <tr>\n",
       "      <th>775</th>\n",
       "      <td>uptonbj01</td>\n",
       "      <td>2013</td>\n",
       "      <td>9</td>\n",
       "      <td>391</td>\n",
       "      <td>29</td>\n",
       "      <td>Turner Field</td>\n",
       "      <td>CF</td>\n",
       "      <td>10</td>\n",
       "      <td>Melvin Upton</td>\n",
       "      <td>0</td>\n",
       "      <td>0.0</td>\n",
       "      <td>10</td>\n",
       "    </tr>\n",
       "    <tr>\n",
       "      <th>777</th>\n",
       "      <td>uptonbj01</td>\n",
       "      <td>2014</td>\n",
       "      <td>12</td>\n",
       "      <td>519</td>\n",
       "      <td>30</td>\n",
       "      <td>Turner Field</td>\n",
       "      <td>CF</td>\n",
       "      <td>11</td>\n",
       "      <td>Melvin Upton</td>\n",
       "      <td>0</td>\n",
       "      <td>0.0</td>\n",
       "      <td>11</td>\n",
       "    </tr>\n",
       "    <tr>\n",
       "      <th>444</th>\n",
       "      <td>uptonbj01</td>\n",
       "      <td>2015</td>\n",
       "      <td>5</td>\n",
       "      <td>205</td>\n",
       "      <td>31</td>\n",
       "      <td>Petco Park</td>\n",
       "      <td>CF</td>\n",
       "      <td>12</td>\n",
       "      <td>Melvin Upton</td>\n",
       "      <td>0</td>\n",
       "      <td>0.0</td>\n",
       "      <td>12</td>\n",
       "    </tr>\n",
       "    <tr>\n",
       "      <th>600</th>\n",
       "      <td>yelicch01</td>\n",
       "      <td>2017</td>\n",
       "      <td>18</td>\n",
       "      <td>602</td>\n",
       "      <td>26</td>\n",
       "      <td>Marlins Park</td>\n",
       "      <td>CF</td>\n",
       "      <td>5</td>\n",
       "      <td>Christian Yelich</td>\n",
       "      <td>0</td>\n",
       "      <td>0.0</td>\n",
       "      <td>5</td>\n",
       "    </tr>\n",
       "  </tbody>\n",
       "</table>\n",
       "<p>118 rows × 12 columns</p>\n",
       "</div>"
      ],
      "text/plain": [
       "      playerID  yearID  HR   AB  playerAge              park pos_main  \\\n",
       "792   cainlo01    2010   1  147         24       Miller Park       CF   \n",
       "99    cainlo01    2012   7  222         26  Kauffman Stadium       CF   \n",
       "952   cainlo01    2013   4  399         27  Kauffman Stadium       CF   \n",
       "231   cainlo01    2014   5  471         28  Kauffman Stadium       CF   \n",
       "400   cainlo01    2015  16  551         29  Kauffman Stadium       CF   \n",
       "..         ...     ...  ..  ...        ...               ...      ...   \n",
       "433  uptonbj01    2012  28  573         28   Tropicana Field       CF   \n",
       "775  uptonbj01    2013   9  391         29      Turner Field       CF   \n",
       "777  uptonbj01    2014  12  519         30      Turner Field       CF   \n",
       "444  uptonbj01    2015   5  205         31        Petco Park       CF   \n",
       "600  yelicch01    2017  18  602         26      Marlins Park       CF   \n",
       "\n",
       "     yearsInMLB         full_name  elite_status  elite_status_prev  \\\n",
       "792           1      Lorenzo Cain             0                NaN   \n",
       "99            3      Lorenzo Cain             0                0.0   \n",
       "952           4      Lorenzo Cain             1                0.0   \n",
       "231           5      Lorenzo Cain             0                1.0   \n",
       "400           6      Lorenzo Cain             0                0.0   \n",
       "..          ...               ...           ...                ...   \n",
       "433           9      Melvin Upton             0                1.0   \n",
       "775          10      Melvin Upton             0                0.0   \n",
       "777          11      Melvin Upton             0                0.0   \n",
       "444          12      Melvin Upton             0                0.0   \n",
       "600           5  Christian Yelich             0                0.0   \n",
       "\n",
       "     year_in_league  \n",
       "792               1  \n",
       "99                3  \n",
       "952               4  \n",
       "231               5  \n",
       "400               6  \n",
       "..              ...  \n",
       "433               9  \n",
       "775              10  \n",
       "777              11  \n",
       "444              12  \n",
       "600               5  \n",
       "\n",
       "[118 rows x 12 columns]"
      ]
     },
     "execution_count": 24,
     "metadata": {},
     "output_type": "execute_result"
    }
   ],
   "source": [
    "cf.sort_values(['playerID', 'yearID'])"
   ]
  },
  {
   "cell_type": "markdown",
   "metadata": {},
   "source": [
    "Find transition sums $\\text{N}_{00k}$, $\\text{N}_{01k}$, $\\text{N}_{10k}$, $\\text{N}_{11k}$ where $\\text{N}_{abk} = \\sum_i\\sum_{t=1}^{n_i}\\text{I}(\\text{E}_{i,t}=a, \\text{E}_{i, t+1}=b)$"
   ]
  },
  {
   "cell_type": "code",
   "execution_count": 25,
   "metadata": {},
   "outputs": [],
   "source": [
    "# Each position in transitions will contains the number of transitions from a,b\n",
    "transitions = np.zeros((2, 2))"
   ]
  },
  {
   "cell_type": "code",
   "execution_count": 26,
   "metadata": {},
   "outputs": [],
   "source": [
    "def chunks(array, n):\n",
    "    for i in range(len(array)):\n",
    "        yield array[i:i+n]"
   ]
  },
  {
   "cell_type": "code",
   "execution_count": 27,
   "metadata": {},
   "outputs": [],
   "source": [
    "players = cf.groupby('playerID')"
   ]
  },
  {
   "cell_type": "code",
   "execution_count": 28,
   "metadata": {},
   "outputs": [],
   "source": [
    "# for player in players:\n",
    "#     elite_status = player[1]['elite_status'].values\n",
    "#     for i in range(len(elite_status)):\n",
    "#         trans = elite_status[i:i+2]\n",
    "#         if len(trans) != 2:\n",
    "#             continue\n",
    "#         a, b = trans[0], trans[1]\n",
    "#         transitions[a][b] += 1"
   ]
  },
  {
   "cell_type": "code",
   "execution_count": 29,
   "metadata": {},
   "outputs": [],
   "source": [
    "# for index, player in players:\n",
    "#     trans = [(e0, e1) for e0, e1 in player[['elite_status', 'elite_status_prev']].values]\n",
    "#     print(f'Player Index: {index}', '\\n', f'Transition: {trans}')"
   ]
  },
  {
   "cell_type": "code",
   "execution_count": 30,
   "metadata": {},
   "outputs": [],
   "source": [
    "def transitions(players: pd.core.groupby.generic.DataFrameGroupBy):\n",
    "    trans_out = np.zeros((2, 2))\n",
    "    for index, player in players:\n",
    "        elite_status = player['elite_status'].values\n",
    "        for trans in chunks(elite_status, 2):\n",
    "            if len(trans) != 2:\n",
    "                continue\n",
    "            a, b = trans[0], trans[1]\n",
    "            trans_out[a][b] += 1\n",
    "    return trans_out"
   ]
  },
  {
   "cell_type": "code",
   "execution_count": 31,
   "metadata": {},
   "outputs": [],
   "source": [
    "def position_transitions(data: pd.DataFrame, position: str):\n",
    "    position = position.upper()\n",
    "    pos = data[data.pos_main == position]\n",
    "    players = pos.groupby('playerID')\n",
    "    return transitions(players)"
   ]
  },
  {
   "cell_type": "code",
   "execution_count": 32,
   "metadata": {},
   "outputs": [
    {
     "data": {
      "text/plain": [
       "array([[76., 10.],\n",
       "       [ 9.,  0.]])"
      ]
     },
     "execution_count": 32,
     "metadata": {},
     "output_type": "execute_result"
    }
   ],
   "source": [
    "position_transitions(data=test_data, position='cf')"
   ]
  },
  {
   "cell_type": "markdown",
   "metadata": {},
   "source": [
    "Update `nu_params` based on the data"
   ]
  },
  {
   "cell_type": "code",
   "execution_count": 33,
   "metadata": {},
   "outputs": [],
   "source": [
    "nu_params = np.ones((9, 2, 2))"
   ]
  },
  {
   "cell_type": "code",
   "execution_count": 34,
   "metadata": {},
   "outputs": [],
   "source": [
    "cf_params = position_transitions(data=test_data, position='cf')\n",
    "nu_params[7] = nu_params[7] + cf_params"
   ]
  },
  {
   "cell_type": "markdown",
   "metadata": {},
   "source": [
    "## TODOs:\n",
    "- [x] map position transitions to dictionary\n",
    "- [x] map positions to integer (0-DH, 1-C,...,8-RF)\n",
    "- [ ] Implement equation 8, posterior\n",
    "    - $p(\\theta_{ij}|R_{ij}, A_{ij}, B_{ij}, E_{ij}, \\alpha, \\beta, \\gamma)$ is NOT a probability, instead use equation 2 to calculate $\\theta_{ij}$\n",
    "    - use $p(\\theta_{ij}|R_{ij}, A_{ij}, B_{ij}, E_{ij}, \\alpha, \\beta, \\gamma)$ to then calculate $p(Y_{ij}|M_{ij}, \\theta_{ij})$\n",
    "    - return the log of probabilities of ALL the things\n",
    "- [ ] If time permits, implement step 1-4 in 2.2"
   ]
  },
  {
   "cell_type": "code",
   "execution_count": 35,
   "metadata": {},
   "outputs": [],
   "source": [
    "positions = ['C', '1B', '2B', '3B', 'SS', 'LF', 'CF', 'RF', 'DH']\n",
    "pos_index = list(range(len(positions)))\n",
    "pos_map = dict(zip(pos_index, positions))"
   ]
  },
  {
   "cell_type": "code",
   "execution_count": 36,
   "metadata": {},
   "outputs": [
    {
     "data": {
      "text/plain": [
       "{0: 'C',\n",
       " 1: '1B',\n",
       " 2: '2B',\n",
       " 3: '3B',\n",
       " 4: 'SS',\n",
       " 5: 'LF',\n",
       " 6: 'CF',\n",
       " 7: 'RF',\n",
       " 8: 'DH'}"
      ]
     },
     "execution_count": 36,
     "metadata": {},
     "output_type": "execute_result"
    }
   ],
   "source": [
    "pos_map"
   ]
  },
  {
   "cell_type": "markdown",
   "metadata": {},
   "source": [
    "Instantiate position $\\alpha$ parameters for Dirichlet Model"
   ]
  },
  {
   "cell_type": "code",
   "execution_count": 37,
   "metadata": {},
   "outputs": [],
   "source": [
    "pos_omega_params = dict(zip(positions, np.ones((9, 2, 2))))"
   ]
  },
  {
   "cell_type": "markdown",
   "metadata": {},
   "source": [
    "Probably going to want to create an `update_position_transition_params` function"
   ]
  },
  {
   "cell_type": "code",
   "execution_count": 38,
   "metadata": {},
   "outputs": [],
   "source": [
    "# def update_position_transition_params():\n",
    "\n",
    "for pos in positions:\n",
    "    get_transition_omegas = position_transitions(data=test_data, position=pos)\n",
    "    pos_omega_params[pos] += get_transition_omegas"
   ]
  },
  {
   "cell_type": "code",
   "execution_count": 39,
   "metadata": {},
   "outputs": [],
   "source": [
    "tau = 100\n",
    "\n",
    "# Beta (Ballparks) β ~ N(0, τ2)\n",
    "beta_vals = stats.norm.rvs(loc=0, scale=tau, size=len(test_data.park.unique()))\n",
    "\n",
    "# Gamma (Spline Coefficients) γ ~ N(0, τ2)\n",
    "# These will be used in our age trajectory model\n",
    "gamma_vals = stats.norm.rvs(loc=0, scale=tau, size=36).reshape(9, 4)"
   ]
  },
  {
   "cell_type": "code",
   "execution_count": 40,
   "metadata": {},
   "outputs": [],
   "source": [
    "# Alpha params (Position/Elite status coefficients) (α_{pos, elite0}, α2_{pos, elite1}) ~ ΜVNormal(0, τ2*Ι)\n",
    "alpha_vals = stats.multivariate_normal.rvs(mean=0, cov=tau, size=(9, 2))\n",
    "alpha_vals.sort()"
   ]
  },
  {
   "cell_type": "code",
   "execution_count": 41,
   "metadata": {},
   "outputs": [
    {
     "data": {
      "text/plain": [
       "array([[  1.02318175,  10.58542695],\n",
       "       [ -7.11842713,  -0.44409681],\n",
       "       [ -8.42222917,  -0.2162805 ],\n",
       "       [-12.12621562,  12.14931343],\n",
       "       [ -9.5226919 ,   2.88018371],\n",
       "       [-11.6668154 ,  -5.79182497],\n",
       "       [ -8.38394376,   2.21474782],\n",
       "       [  0.48171084,  25.28920955],\n",
       "       [  4.32243927,   5.03762775]])"
      ]
     },
     "execution_count": 41,
     "metadata": {},
     "output_type": "execute_result"
    }
   ],
   "source": [
    "alpha_vals"
   ]
  },
  {
   "cell_type": "code",
   "execution_count": 42,
   "metadata": {},
   "outputs": [],
   "source": [
    "# Nu transition values\n",
    "nu_vals = stats.dirichlet.rvs(alpha=np.array([1, 1]), size=18).reshape(9, 2, 2)"
   ]
  },
  {
   "cell_type": "code",
   "execution_count": 43,
   "metadata": {},
   "outputs": [
    {
     "data": {
      "text/plain": [
       "array([[[0.67057529, 0.32942471],\n",
       "        [0.00304758, 0.99695242]],\n",
       "\n",
       "       [[0.45486592, 0.54513408],\n",
       "        [0.16106042, 0.83893958]],\n",
       "\n",
       "       [[0.03334379, 0.96665621],\n",
       "        [0.8497784 , 0.1502216 ]],\n",
       "\n",
       "       [[0.24169845, 0.75830155],\n",
       "        [0.53716657, 0.46283343]],\n",
       "\n",
       "       [[0.70680323, 0.29319677],\n",
       "        [0.16998236, 0.83001764]],\n",
       "\n",
       "       [[0.03736928, 0.96263072],\n",
       "        [0.03862694, 0.96137306]],\n",
       "\n",
       "       [[0.28445794, 0.71554206],\n",
       "        [0.80346564, 0.19653436]],\n",
       "\n",
       "       [[0.16762282, 0.83237718],\n",
       "        [0.81567637, 0.18432363]],\n",
       "\n",
       "       [[0.14389392, 0.85610608],\n",
       "        [0.50978693, 0.49021307]]])"
      ]
     },
     "execution_count": 43,
     "metadata": {},
     "output_type": "execute_result"
    }
   ],
   "source": [
    "nu_vals"
   ]
  },
  {
   "cell_type": "markdown",
   "metadata": {},
   "source": [
    "For some player i,j look up their position, look up in `nu_vals` based on position. Find elite status this year, and elite status last year"
   ]
  },
  {
   "cell_type": "code",
   "execution_count": 45,
   "metadata": {},
   "outputs": [],
   "source": [
    "# Park effect parameters\n",
    "beta_params = dict(zip(test_data.park.unique(), beta_vals))\n",
    "\n",
    "# The intercept for the model dependent on the elite status & position\n",
    "alpha_params = dict(zip(positions, alpha_vals))\n",
    "\n",
    "# Used for the ν transition probabilities dependent on the elite status & position\n",
    "nu_params = dict(zip(positions, stats.dirichlet.rvs(alpha=np.array([1, 1]), size=18).reshape(9, 2, 2)))\n",
    "\n",
    "# Used for the ν transition parameters depenent on the elite status & position\n",
    "omega_params = dict(zip(positions, np.ones((9, 2, 2))))\n",
    "\n",
    "# Used as coefficients in what I believe to be a 3rd degree polynomial regression\n",
    "gamma_params = dict(zip(positions, stats.norm.rvs(loc=0, scale=tau, size=36).reshape(9, 4)))"
   ]
  },
  {
   "cell_type": "code",
   "execution_count": 46,
   "metadata": {},
   "outputs": [
    {
     "data": {
      "text/plain": [
       "{'C': array([[0.78010585, 0.21989415],\n",
       "        [0.94411664, 0.05588336]]),\n",
       " '1B': array([[0.51057328, 0.48942672],\n",
       "        [0.66084919, 0.33915081]]),\n",
       " '2B': array([[0.28533944, 0.71466056],\n",
       "        [0.67641289, 0.32358711]]),\n",
       " '3B': array([[0.8122858 , 0.1877142 ],\n",
       "        [0.87536372, 0.12463628]]),\n",
       " 'SS': array([[0.72669144, 0.27330856],\n",
       "        [0.56652377, 0.43347623]]),\n",
       " 'LF': array([[0.76426343, 0.23573657],\n",
       "        [0.98768173, 0.01231827]]),\n",
       " 'CF': array([[0.19107015, 0.80892985],\n",
       "        [0.66800711, 0.33199289]]),\n",
       " 'RF': array([[0.65093517, 0.34906483],\n",
       "        [0.2324559 , 0.7675441 ]]),\n",
       " 'DH': array([[0.76948538, 0.23051462],\n",
       "        [0.82945626, 0.17054374]])}"
      ]
     },
     "execution_count": 46,
     "metadata": {},
     "output_type": "execute_result"
    }
   ],
   "source": [
    "nu_params"
   ]
  },
  {
   "cell_type": "code",
   "execution_count": 47,
   "metadata": {},
   "outputs": [
    {
     "data": {
      "text/plain": [
       "{'C': array([[1., 1.],\n",
       "        [1., 1.]]),\n",
       " '1B': array([[1., 1.],\n",
       "        [1., 1.]]),\n",
       " '2B': array([[1., 1.],\n",
       "        [1., 1.]]),\n",
       " '3B': array([[1., 1.],\n",
       "        [1., 1.]]),\n",
       " 'SS': array([[1., 1.],\n",
       "        [1., 1.]]),\n",
       " 'LF': array([[1., 1.],\n",
       "        [1., 1.]]),\n",
       " 'CF': array([[1., 1.],\n",
       "        [1., 1.]]),\n",
       " 'RF': array([[1., 1.],\n",
       "        [1., 1.]]),\n",
       " 'DH': array([[1., 1.],\n",
       "        [1., 1.]])}"
      ]
     },
     "execution_count": 47,
     "metadata": {},
     "output_type": "execute_result"
    }
   ],
   "source": [
    "omega_params"
   ]
  },
  {
   "cell_type": "code",
   "execution_count": 48,
   "metadata": {},
   "outputs": [],
   "source": [
    "# test_nu = nu_params['C']\n",
    "# test_omega = omega_params['C']\n",
    "\n",
    "# for x1, x2 in zip(test_nu, test_omega):\n",
    "#     print(x1)\n",
    "#     print(x2)\n",
    "#     print(stats.dirichlet.pdf(x1, x2))"
   ]
  },
  {
   "cell_type": "code",
   "execution_count": 49,
   "metadata": {},
   "outputs": [],
   "source": [
    "def age_trajectory(age, gamma):\n",
    "    return gamma[0] + gamma[1] * age + (gamma[2] * (age ** 2)) + (gamma[3] * (age ** 3))"
   ]
  },
  {
   "cell_type": "code",
   "execution_count": 50,
   "metadata": {},
   "outputs": [],
   "source": [
    "# test_data_copy = test_data.copy()\n",
    "# test_data_copy.set_index(['playerID', 'yearID'], inplace=True)\n",
    "# test_data_copy.loc[('troutmi01', 2015)]\n",
    "# test_data_copy.index"
   ]
  },
  {
   "cell_type": "code",
   "execution_count": 51,
   "metadata": {},
   "outputs": [
    {
     "name": "stderr",
     "output_type": "stream",
     "text": [
      "<ipython-input-17-a1ce153ef68e>:2: RuntimeWarning: overflow encountered in exp\n",
      "  return 1 / (1 + np.exp(α + β + f_a))\n"
     ]
    },
    {
     "data": {
      "text/plain": [
       "0.0"
      ]
     },
     "execution_count": 51,
     "metadata": {},
     "output_type": "execute_result"
    }
   ],
   "source": [
    "# p(θ_{ij}|R_{ij}, A_{ij}, B_{ij}, E_{ij}, α, β, γ)\n",
    "player = 'troutmi01'\n",
    "year = 2015\n",
    "age_ij = test_data.loc[(test_data.playerID == player) & (test_data.yearID == year), 'playerAge'].values[0]\n",
    "park_ij = test_data.loc[(test_data.playerID == player) & (test_data.yearID == year), 'park'].values[0]\n",
    "pos_ij = test_data.loc[(test_data.playerID == player) & (test_data.yearID == year), 'pos_main'].values[0]\n",
    "elite_ij = test_data.loc[(test_data.playerID == player) & (test_data.yearID == year), 'elite_status'].values[0]\n",
    "\n",
    "age_model_pred = age_trajectory(age_ij, gamma_params[pos_ij])\n",
    "alpha = alpha_params[pos_ij][elite_ij]\n",
    "beta = beta_params[park_ij]\n",
    "\n",
    "theta(alpha, beta, age_model_pred)"
   ]
  },
  {
   "cell_type": "code",
   "execution_count": 52,
   "metadata": {},
   "outputs": [
    {
     "name": "stdout",
     "output_type": "stream",
     "text": [
      "24\n",
      "Angel Stadium of Anaheim\n",
      "CF\n",
      "762812.6309596077\n"
     ]
    }
   ],
   "source": [
    "print(age_ij)\n",
    "print(park_ij)\n",
    "print(pos_ij)\n",
    "print(age_model_pred)"
   ]
  },
  {
   "cell_type": "code",
   "execution_count": 53,
   "metadata": {},
   "outputs": [],
   "source": [
    "def log_prior_theta(age, pos, park, elite_status, alpha_intercepts, park_params, spline_coefs):\n",
    "    age_model_pred = age_trajectory(age, spline_coefs[pos])\n",
    "    alpha = alpha_params[pos][elite_status]\n",
    "    beta = beta_params[park]\n",
    "    return np.log(theta(alpha, beta, age_model_pred))"
   ]
  },
  {
   "cell_type": "code",
   "execution_count": 54,
   "metadata": {},
   "outputs": [],
   "source": [
    "def log_elite_transition(pos, elite_prev, elite_curr, elite_params):\n",
    "    if np.isnan(elite_prev):\n",
    "        elite_prev = 0\n",
    "    return np.log(elite_params[pos][int(elite_prev), int(elite_curr)])"
   ]
  },
  {
   "cell_type": "code",
   "execution_count": 55,
   "metadata": {},
   "outputs": [],
   "source": [
    "def log_posterior(alpha, beta, gamma, nu, omega, X):\n",
    "    \n",
    "    \"\"\"\n",
    "    Params\n",
    "    ------\n",
    "        alpha: Intercept coefficients. Dict w/ pos keys and 2x1 np.array\n",
    "        beta: Park coefficients. Dict w/ park name keys and 1x1 np.array\n",
    "        gamma: Spline coefficients. Dict w/ pos keys and 4x1 np.array\n",
    "        nu: Transition probabilities. Dict w/ pos keys and 2x2 np.array with trans probs\n",
    "        omega: Dirichlet parameters. 2x2 np.array\n",
    "        X: Player Data\n",
    "        \n",
    "    Returns\n",
    "    -------\n",
    "        Log of the Posterior (float)\n",
    "    \"\"\"\n",
    "    \n",
    "    post_sum = 0\n",
    "    \n",
    "    for index, row in X.iterrows():\n",
    "        # 2nd equation on RHS equation (8) return the LOG of p(θ)\n",
    "        theta_ = log_prior_theta(\n",
    "            age=row['playerAge'],\n",
    "            pos=row['pos_main'],\n",
    "            park=row['park'],\n",
    "            elite_status=row['elite_status'],\n",
    "            alpha_intercepts=alpha,\n",
    "            park_params=beta,\n",
    "            spline_coefs=gamma\n",
    "        )\n",
    "        # breakpoint()\n",
    "        # capture rates > 1 and give them .99 for now\n",
    "        rate = np.exp(theta_) if np.exp(theta_) < 1 else 0.99 \n",
    "        # 1st equation on RHS of equation(8)\n",
    "        post_sum += log_binom(row['HR'], rate, row['AB'])\n",
    "        post_sum += theta_\n",
    "        # 3rd equation on RHS of equation(8)\n",
    "        e_prev = row['elite_status_prev']\n",
    "        e_curr = row['elite_status']\n",
    "        post_sum += log_elite_transition(row['pos_main'], e_prev, e_curr, nu)\n",
    "    \n",
    "    # 4th equation on the RHS of equation(8)\n",
    "    # breakpoint()\n",
    "    # I added omega here because I think we need it to change once we update the parameters\n",
    "    # in step 4 of 2.2 MCMC Implementation\n",
    "    post_sum += log_prior(alpha, beta, gamma, nu, omega)\n",
    "    print(f'Posterior sum: {post_sum}')\n",
    "    return post_sum"
   ]
  },
  {
   "cell_type": "code",
   "execution_count": 56,
   "metadata": {},
   "outputs": [
    {
     "name": "stderr",
     "output_type": "stream",
     "text": [
      "<ipython-input-17-a1ce153ef68e>:2: RuntimeWarning: overflow encountered in exp\n",
      "  return 1 / (1 + np.exp(α + β + f_a))\n",
      "<ipython-input-53-2d9a647ab620>:5: RuntimeWarning: divide by zero encountered in log\n",
      "  return np.log(theta(alpha, beta, age_model_pred))\n"
     ]
    },
    {
     "ename": "NameError",
     "evalue": "name 'log_binom' is not defined",
     "output_type": "error",
     "traceback": [
      "\u001b[0;31m---------------------------------------------------------------------------\u001b[0m",
      "\u001b[0;31mNameError\u001b[0m                                 Traceback (most recent call last)",
      "\u001b[0;32m<ipython-input-56-c36581abddcd>\u001b[0m in \u001b[0;36m<module>\u001b[0;34m\u001b[0m\n\u001b[0;32m----> 1\u001b[0;31m \u001b[0mlog_posterior\u001b[0m\u001b[0;34m(\u001b[0m\u001b[0malpha_params\u001b[0m\u001b[0;34m,\u001b[0m \u001b[0mbeta_params\u001b[0m\u001b[0;34m,\u001b[0m \u001b[0mgamma_params\u001b[0m\u001b[0;34m,\u001b[0m \u001b[0mnu_params\u001b[0m\u001b[0;34m,\u001b[0m \u001b[0momega_params\u001b[0m\u001b[0;34m,\u001b[0m \u001b[0mtest_data\u001b[0m\u001b[0;34m)\u001b[0m\u001b[0;34m\u001b[0m\u001b[0;34m\u001b[0m\u001b[0m\n\u001b[0m",
      "\u001b[0;32m<ipython-input-55-81f4f62e8cfc>\u001b[0m in \u001b[0;36mlog_posterior\u001b[0;34m(alpha, beta, gamma, nu, omega, X)\u001b[0m\n\u001b[1;32m     33\u001b[0m         \u001b[0mrate\u001b[0m \u001b[0;34m=\u001b[0m \u001b[0mnp\u001b[0m\u001b[0;34m.\u001b[0m\u001b[0mexp\u001b[0m\u001b[0;34m(\u001b[0m\u001b[0mtheta_\u001b[0m\u001b[0;34m)\u001b[0m \u001b[0;32mif\u001b[0m \u001b[0mnp\u001b[0m\u001b[0;34m.\u001b[0m\u001b[0mexp\u001b[0m\u001b[0;34m(\u001b[0m\u001b[0mtheta_\u001b[0m\u001b[0;34m)\u001b[0m \u001b[0;34m<\u001b[0m \u001b[0;36m1\u001b[0m \u001b[0;32melse\u001b[0m \u001b[0;36m0.99\u001b[0m\u001b[0;34m\u001b[0m\u001b[0;34m\u001b[0m\u001b[0m\n\u001b[1;32m     34\u001b[0m         \u001b[0;31m# 1st equation on RHS of equation(8)\u001b[0m\u001b[0;34m\u001b[0m\u001b[0;34m\u001b[0m\u001b[0;34m\u001b[0m\u001b[0m\n\u001b[0;32m---> 35\u001b[0;31m         \u001b[0mpost_sum\u001b[0m \u001b[0;34m+=\u001b[0m \u001b[0mlog_binom\u001b[0m\u001b[0;34m(\u001b[0m\u001b[0mrow\u001b[0m\u001b[0;34m[\u001b[0m\u001b[0;34m'HR'\u001b[0m\u001b[0;34m]\u001b[0m\u001b[0;34m,\u001b[0m \u001b[0mrate\u001b[0m\u001b[0;34m,\u001b[0m \u001b[0mrow\u001b[0m\u001b[0;34m[\u001b[0m\u001b[0;34m'AB'\u001b[0m\u001b[0;34m]\u001b[0m\u001b[0;34m)\u001b[0m\u001b[0;34m\u001b[0m\u001b[0;34m\u001b[0m\u001b[0m\n\u001b[0m\u001b[1;32m     36\u001b[0m         \u001b[0mpost_sum\u001b[0m \u001b[0;34m+=\u001b[0m \u001b[0mtheta_\u001b[0m\u001b[0;34m\u001b[0m\u001b[0;34m\u001b[0m\u001b[0m\n\u001b[1;32m     37\u001b[0m         \u001b[0;31m# 3rd equation on RHS of equation(8)\u001b[0m\u001b[0;34m\u001b[0m\u001b[0;34m\u001b[0m\u001b[0;34m\u001b[0m\u001b[0m\n",
      "\u001b[0;31mNameError\u001b[0m: name 'log_binom' is not defined"
     ]
    }
   ],
   "source": [
    "log_posterior(alpha_params, beta_params, gamma_params, nu_params, omega_params, test_data)"
   ]
  },
  {
   "cell_type": "markdown",
   "metadata": {},
   "source": [
    "## Forward-summing Backward-sampling"
   ]
  },
  {
   "cell_type": "code",
   "execution_count": 57,
   "metadata": {},
   "outputs": [
    {
     "data": {
      "text/plain": [
       "{'C': array([[0.78010585, 0.21989415],\n",
       "        [0.94411664, 0.05588336]]),\n",
       " '1B': array([[0.51057328, 0.48942672],\n",
       "        [0.66084919, 0.33915081]]),\n",
       " '2B': array([[0.28533944, 0.71466056],\n",
       "        [0.67641289, 0.32358711]]),\n",
       " '3B': array([[0.8122858 , 0.1877142 ],\n",
       "        [0.87536372, 0.12463628]]),\n",
       " 'SS': array([[0.72669144, 0.27330856],\n",
       "        [0.56652377, 0.43347623]]),\n",
       " 'LF': array([[0.76426343, 0.23573657],\n",
       "        [0.98768173, 0.01231827]]),\n",
       " 'CF': array([[0.19107015, 0.80892985],\n",
       "        [0.66800711, 0.33199289]]),\n",
       " 'RF': array([[0.65093517, 0.34906483],\n",
       "        [0.2324559 , 0.7675441 ]]),\n",
       " 'DH': array([[0.76948538, 0.23051462],\n",
       "        [0.82945626, 0.17054374]])}"
      ]
     },
     "execution_count": 57,
     "metadata": {},
     "output_type": "execute_result"
    }
   ],
   "source": [
    "nu_params"
   ]
  },
  {
   "cell_type": "code",
   "execution_count": 59,
   "metadata": {},
   "outputs": [
    {
     "name": "stdout",
     "output_type": "stream",
     "text": [
      "--Return--\n",
      "None\n",
      "> \u001b[0;32m<ipython-input-59-5982e0264eb9>\u001b[0m(4)\u001b[0;36m<module>\u001b[0;34m()\u001b[0m\n",
      "\u001b[0;32m      2 \u001b[0;31m\u001b[0mCp\u001b[0m \u001b[0;34m=\u001b[0m \u001b[0mP\u001b[0m\u001b[0;34m[\u001b[0m\u001b[0;34m'C'\u001b[0m\u001b[0;34m]\u001b[0m\u001b[0;34m\u001b[0m\u001b[0;34m\u001b[0m\u001b[0m\n",
      "\u001b[0m\u001b[0;32m      3 \u001b[0;31m\u001b[0mpi\u001b[0m \u001b[0;34m=\u001b[0m \u001b[0mnp\u001b[0m\u001b[0;34m.\u001b[0m\u001b[0marray\u001b[0m\u001b[0;34m(\u001b[0m\u001b[0;34m[\u001b[0m\u001b[0mCp\u001b[0m\u001b[0;34m[\u001b[0m\u001b[0;36m0\u001b[0m\u001b[0;34m,\u001b[0m \u001b[0;36m1\u001b[0m\u001b[0;34m]\u001b[0m\u001b[0;34m,\u001b[0m \u001b[0mCp\u001b[0m\u001b[0;34m[\u001b[0m\u001b[0;36m1\u001b[0m\u001b[0;34m,\u001b[0m \u001b[0;36m0\u001b[0m\u001b[0;34m]\u001b[0m\u001b[0;34m]\u001b[0m\u001b[0;34m)\u001b[0m\u001b[0;34m\u001b[0m\u001b[0;34m\u001b[0m\u001b[0m\n",
      "\u001b[0m\u001b[0;32m----> 4 \u001b[0;31m\u001b[0mbreakpoint\u001b[0m\u001b[0;34m(\u001b[0m\u001b[0;34m)\u001b[0m\u001b[0;34m\u001b[0m\u001b[0;34m\u001b[0m\u001b[0m\n",
      "\u001b[0m\u001b[0;32m      5 \u001b[0;31m\u001b[0mN\u001b[0m \u001b[0;34m=\u001b[0m \u001b[0;36m10\u001b[0m\u001b[0;34m\u001b[0m\u001b[0;34m\u001b[0m\u001b[0m\n",
      "\u001b[0m\u001b[0;32m      6 \u001b[0;31m\u001b[0mM\u001b[0m \u001b[0;34m=\u001b[0m \u001b[0mnp\u001b[0m\u001b[0;34m.\u001b[0m\u001b[0mzeros\u001b[0m\u001b[0;34m(\u001b[0m\u001b[0;34m(\u001b[0m\u001b[0mN\u001b[0m\u001b[0;34m,\u001b[0m \u001b[0;36m2\u001b[0m\u001b[0;34m)\u001b[0m\u001b[0;34m)\u001b[0m\u001b[0;34m\u001b[0m\u001b[0;34m\u001b[0m\u001b[0m\n",
      "\u001b[0m\n"
     ]
    },
    {
     "name": "stdin",
     "output_type": "stream",
     "text": [
      "ipdb>  n\n"
     ]
    },
    {
     "name": "stdout",
     "output_type": "stream",
     "text": [
      "\u001b[0;31m    [... skipped 1 hidden frame]\u001b[0m\n",
      "\n",
      "> \u001b[0;32m/Users/joshtracy/.virtualenvs/jupyter/lib/python3.8/site-packages/IPython/core/interactiveshell.py\u001b[0m(3346)\u001b[0;36mrun_code\u001b[0;34m()\u001b[0m\n",
      "\u001b[0;32m   3344 \u001b[0;31m            \u001b[0;32mfinally\u001b[0m\u001b[0;34m:\u001b[0m\u001b[0;34m\u001b[0m\u001b[0;34m\u001b[0m\u001b[0m\n",
      "\u001b[0m\u001b[0;32m   3345 \u001b[0;31m                \u001b[0;31m# Reset our crash handler in place\u001b[0m\u001b[0;34m\u001b[0m\u001b[0;34m\u001b[0m\u001b[0;34m\u001b[0m\u001b[0m\n",
      "\u001b[0m\u001b[0;32m-> 3346 \u001b[0;31m                \u001b[0msys\u001b[0m\u001b[0;34m.\u001b[0m\u001b[0mexcepthook\u001b[0m \u001b[0;34m=\u001b[0m \u001b[0mold_excepthook\u001b[0m\u001b[0;34m\u001b[0m\u001b[0;34m\u001b[0m\u001b[0m\n",
      "\u001b[0m\u001b[0;32m   3347 \u001b[0;31m        \u001b[0;32mexcept\u001b[0m \u001b[0mSystemExit\u001b[0m \u001b[0;32mas\u001b[0m \u001b[0me\u001b[0m\u001b[0;34m:\u001b[0m\u001b[0;34m\u001b[0m\u001b[0;34m\u001b[0m\u001b[0m\n",
      "\u001b[0m\u001b[0;32m   3348 \u001b[0;31m            \u001b[0;32mif\u001b[0m \u001b[0mresult\u001b[0m \u001b[0;32mis\u001b[0m \u001b[0;32mnot\u001b[0m \u001b[0;32mNone\u001b[0m\u001b[0;34m:\u001b[0m\u001b[0;34m\u001b[0m\u001b[0;34m\u001b[0m\u001b[0m\n",
      "\u001b[0m\n"
     ]
    },
    {
     "name": "stdin",
     "output_type": "stream",
     "text": [
      "ipdb>  n\n"
     ]
    },
    {
     "name": "stdout",
     "output_type": "stream",
     "text": [
      "\u001b[0;31m    [... skipped 1 hidden frame]\u001b[0m\n",
      "\n",
      "> \u001b[0;32m/Users/joshtracy/.virtualenvs/jupyter/lib/python3.8/site-packages/IPython/core/interactiveshell.py\u001b[0m(3362)\u001b[0;36mrun_code\u001b[0;34m()\u001b[0m\n",
      "\u001b[0;32m   3360 \u001b[0;31m            \u001b[0mself\u001b[0m\u001b[0;34m.\u001b[0m\u001b[0mshowtraceback\u001b[0m\u001b[0;34m(\u001b[0m\u001b[0mrunning_compiled_code\u001b[0m\u001b[0;34m=\u001b[0m\u001b[0;32mTrue\u001b[0m\u001b[0;34m)\u001b[0m\u001b[0;34m\u001b[0m\u001b[0;34m\u001b[0m\u001b[0m\n",
      "\u001b[0m\u001b[0;32m   3361 \u001b[0;31m        \u001b[0;32melse\u001b[0m\u001b[0;34m:\u001b[0m\u001b[0;34m\u001b[0m\u001b[0;34m\u001b[0m\u001b[0m\n",
      "\u001b[0m\u001b[0;32m-> 3362 \u001b[0;31m            \u001b[0moutflag\u001b[0m \u001b[0;34m=\u001b[0m \u001b[0;32mFalse\u001b[0m\u001b[0;34m\u001b[0m\u001b[0;34m\u001b[0m\u001b[0m\n",
      "\u001b[0m\u001b[0;32m   3363 \u001b[0;31m        \u001b[0;32mreturn\u001b[0m \u001b[0moutflag\u001b[0m\u001b[0;34m\u001b[0m\u001b[0;34m\u001b[0m\u001b[0m\n",
      "\u001b[0m\u001b[0;32m   3364 \u001b[0;31m\u001b[0;34m\u001b[0m\u001b[0m\n",
      "\u001b[0m\n"
     ]
    },
    {
     "name": "stdin",
     "output_type": "stream",
     "text": [
      "ipdb>  q\n"
     ]
    },
    {
     "ename": "BdbQuit",
     "evalue": "",
     "output_type": "error",
     "traceback": [
      "\u001b[0;31m---------------------------------------------------------------------------\u001b[0m",
      "\u001b[0;31mBdbQuit\u001b[0m                                   Traceback (most recent call last)",
      "    \u001b[0;31m[... skipping hidden 2 frame]\u001b[0m\n",
      "\u001b[0;32m/usr/local/Cellar/python@3.8/3.8.3_2/Frameworks/Python.framework/Versions/3.8/lib/python3.8/bdb.py\u001b[0m in \u001b[0;36mtrace_dispatch\u001b[0;34m(self, frame, event, arg)\u001b[0m\n\u001b[1;32m     86\u001b[0m             \u001b[0;32mreturn\u001b[0m \u001b[0;31m# None\u001b[0m\u001b[0;34m\u001b[0m\u001b[0;34m\u001b[0m\u001b[0m\n\u001b[1;32m     87\u001b[0m         \u001b[0;32mif\u001b[0m \u001b[0mevent\u001b[0m \u001b[0;34m==\u001b[0m \u001b[0;34m'line'\u001b[0m\u001b[0;34m:\u001b[0m\u001b[0;34m\u001b[0m\u001b[0;34m\u001b[0m\u001b[0m\n\u001b[0;32m---> 88\u001b[0;31m             \u001b[0;32mreturn\u001b[0m \u001b[0mself\u001b[0m\u001b[0;34m.\u001b[0m\u001b[0mdispatch_line\u001b[0m\u001b[0;34m(\u001b[0m\u001b[0mframe\u001b[0m\u001b[0;34m)\u001b[0m\u001b[0;34m\u001b[0m\u001b[0;34m\u001b[0m\u001b[0m\n\u001b[0m\u001b[1;32m     89\u001b[0m         \u001b[0;32mif\u001b[0m \u001b[0mevent\u001b[0m \u001b[0;34m==\u001b[0m \u001b[0;34m'call'\u001b[0m\u001b[0;34m:\u001b[0m\u001b[0;34m\u001b[0m\u001b[0;34m\u001b[0m\u001b[0m\n\u001b[1;32m     90\u001b[0m             \u001b[0;32mreturn\u001b[0m \u001b[0mself\u001b[0m\u001b[0;34m.\u001b[0m\u001b[0mdispatch_call\u001b[0m\u001b[0;34m(\u001b[0m\u001b[0mframe\u001b[0m\u001b[0;34m,\u001b[0m \u001b[0marg\u001b[0m\u001b[0;34m)\u001b[0m\u001b[0;34m\u001b[0m\u001b[0;34m\u001b[0m\u001b[0m\n",
      "\u001b[0;32m/usr/local/Cellar/python@3.8/3.8.3_2/Frameworks/Python.framework/Versions/3.8/lib/python3.8/bdb.py\u001b[0m in \u001b[0;36mdispatch_line\u001b[0;34m(self, frame)\u001b[0m\n\u001b[1;32m    111\u001b[0m         \u001b[0;32mif\u001b[0m \u001b[0mself\u001b[0m\u001b[0;34m.\u001b[0m\u001b[0mstop_here\u001b[0m\u001b[0;34m(\u001b[0m\u001b[0mframe\u001b[0m\u001b[0;34m)\u001b[0m \u001b[0;32mor\u001b[0m \u001b[0mself\u001b[0m\u001b[0;34m.\u001b[0m\u001b[0mbreak_here\u001b[0m\u001b[0;34m(\u001b[0m\u001b[0mframe\u001b[0m\u001b[0;34m)\u001b[0m\u001b[0;34m:\u001b[0m\u001b[0;34m\u001b[0m\u001b[0;34m\u001b[0m\u001b[0m\n\u001b[1;32m    112\u001b[0m             \u001b[0mself\u001b[0m\u001b[0;34m.\u001b[0m\u001b[0muser_line\u001b[0m\u001b[0;34m(\u001b[0m\u001b[0mframe\u001b[0m\u001b[0;34m)\u001b[0m\u001b[0;34m\u001b[0m\u001b[0;34m\u001b[0m\u001b[0m\n\u001b[0;32m--> 113\u001b[0;31m             \u001b[0;32mif\u001b[0m \u001b[0mself\u001b[0m\u001b[0;34m.\u001b[0m\u001b[0mquitting\u001b[0m\u001b[0;34m:\u001b[0m \u001b[0;32mraise\u001b[0m \u001b[0mBdbQuit\u001b[0m\u001b[0;34m\u001b[0m\u001b[0;34m\u001b[0m\u001b[0m\n\u001b[0m\u001b[1;32m    114\u001b[0m         \u001b[0;32mreturn\u001b[0m \u001b[0mself\u001b[0m\u001b[0;34m.\u001b[0m\u001b[0mtrace_dispatch\u001b[0m\u001b[0;34m\u001b[0m\u001b[0;34m\u001b[0m\u001b[0m\n\u001b[1;32m    115\u001b[0m \u001b[0;34m\u001b[0m\u001b[0m\n",
      "\u001b[0;31mBdbQuit\u001b[0m: "
     ]
    }
   ],
   "source": [
    "P = nu_params\n",
    "Cp = P['C']\n",
    "pi = np.array([Cp[0, 1], Cp[1, 0]])\n",
    "\n",
    "N = 10\n",
    "M = np.zeros((N, 2))\n",
    "M[0, :] = pi\n",
    "\n",
    "for j in range(1, N):\n",
    " \n",
    "    Rtemp = M[j-1, :].dot(Cp).reshape(1, -1)\n",
    "    assert Rtemp.shape == (1, 2)\n",
    "    \n",
    "    # Get the alpha intercept parameter associated with catchers\n",
    "    # Solve for theta where the intercept is based on Non-Elite\n",
    "    # theta0 = theta(alpha_params['C'][0], beta_params['Marlins Park'], age_trajectory(30, gamma_params['C']))\n",
    "    theta0 = 0.05\n",
    "    # Solve for theta where the intercept is based on Elite\n",
    "    # theta1 = theta(alpha_params['C'][1], beta_params['Marlins Park'], age_trajectory(30, gamma_params['C']))\n",
    "    theta1 = 0.075\n",
    "    \n",
    "    # Compute probability of X homeruns given N at-bats and theta0 HR Rate\n",
    "    p0 = stats.binom(n=400, p=theta0).pmf(k=20)\n",
    "    # Compute probability of X homeruns given N at-bats and theta1 HR Rate\n",
    "    p1 = stats.binom(n=400, p=theta1).pmf(k=20)\n",
    "    \n",
    "    Rtemp *= np.array([p0, p1])\n",
    "    \n",
    "    # Normalize Rtemp to be a probability vector\n",
    "    Rtemp /= sum(Rtemp)\n",
    "    \n",
    "    M[j, :] = Rtemp # only after normalization"
   ]
  },
  {
   "cell_type": "code",
   "execution_count": null,
   "metadata": {},
   "outputs": [],
   "source": [
    "# help(stats.binom)"
   ]
  },
  {
   "cell_type": "code",
   "execution_count": null,
   "metadata": {},
   "outputs": [],
   "source": []
  }
 ],
 "metadata": {
  "kernelspec": {
   "display_name": "Python 3.8 (jupyter)",
   "language": "python",
   "name": "jupyter"
  },
  "language_info": {
   "codemirror_mode": {
    "name": "ipython",
    "version": 3
   },
   "file_extension": ".py",
   "mimetype": "text/x-python",
   "name": "python",
   "nbconvert_exporter": "python",
   "pygments_lexer": "ipython3",
   "version": "3.8.3"
  }
 },
 "nbformat": 4,
 "nbformat_minor": 4
}
